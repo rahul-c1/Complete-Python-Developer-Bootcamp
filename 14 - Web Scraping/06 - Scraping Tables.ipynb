{
 "cells": [
  {
   "cell_type": "markdown",
   "id": "1f57e2fe",
   "metadata": {},
   "source": [
    "# Scraping Tables\n",
    "\n",
    "[pandas](https://pandas.pydata.org) is a fast, powerful, flexible and easy to use open source data analysis and manipulation tool,\n",
    "built on top of the Python programming language.\n",
    "\n",
    "Scraping tables can be done easy as follows.\n",
    "\n",
    "Consider this page [GDP wiki](https://en.wikipedia.org/wiki/List_of_countries_by_GDP_(nominal)_per_capita)\n",
    "\n",
    "```Python\n",
    "import pandas as pd\n",
    "\n",
    "url = 'https://en.wikipedia.org/wiki/List_of_countries_by_GDP_(nominal)_per_capita'\n",
    "\n",
    "tables = pd.read_html(url)\n",
    "```"
   ]
  },
  {
   "cell_type": "code",
   "execution_count": 1,
   "id": "ed9bd0dc",
   "metadata": {},
   "outputs": [],
   "source": [
    "import pandas as pd"
   ]
  },
  {
   "cell_type": "code",
   "execution_count": 2,
   "id": "c52a003f",
   "metadata": {},
   "outputs": [],
   "source": [
    "url = 'https://en.wikipedia.org/wiki/List_of_countries_by_GDP_(nominal)_per_capita'\n",
    "\n",
    "tables = pd.read_html(url)"
   ]
  },
  {
   "cell_type": "code",
   "execution_count": 3,
   "id": "2e75856f",
   "metadata": {},
   "outputs": [
    {
     "data": {
      "text/plain": [
       "list"
      ]
     },
     "execution_count": 3,
     "metadata": {},
     "output_type": "execute_result"
    }
   ],
   "source": [
    "type(tables)"
   ]
  },
  {
   "cell_type": "code",
   "execution_count": 4,
   "id": "ae46b5ed",
   "metadata": {},
   "outputs": [
    {
     "data": {
      "text/plain": [
       "6"
      ]
     },
     "execution_count": 4,
     "metadata": {},
     "output_type": "execute_result"
    }
   ],
   "source": [
    "len(tables)"
   ]
  },
  {
   "cell_type": "code",
   "execution_count": 5,
   "id": "89ea4e2f",
   "metadata": {},
   "outputs": [
    {
     "data": {
      "text/plain": [
       "pandas.core.frame.DataFrame"
      ]
     },
     "execution_count": 5,
     "metadata": {},
     "output_type": "execute_result"
    }
   ],
   "source": [
    "type(tables[0])"
   ]
  },
  {
   "cell_type": "code",
   "execution_count": 7,
   "id": "59a824fd",
   "metadata": {},
   "outputs": [
    {
     "data": {
      "text/html": [
       "<div>\n",
       "<style scoped>\n",
       "    .dataframe tbody tr th:only-of-type {\n",
       "        vertical-align: middle;\n",
       "    }\n",
       "\n",
       "    .dataframe tbody tr th {\n",
       "        vertical-align: top;\n",
       "    }\n",
       "\n",
       "    .dataframe thead tr th {\n",
       "        text-align: left;\n",
       "    }\n",
       "</style>\n",
       "<table border=\"1\" class=\"dataframe\">\n",
       "  <thead>\n",
       "    <tr>\n",
       "      <th></th>\n",
       "      <th>Country/Territory</th>\n",
       "      <th>UN Region</th>\n",
       "      <th colspan=\"2\" halign=\"left\">IMF[4][5]</th>\n",
       "      <th colspan=\"2\" halign=\"left\">World Bank[6]</th>\n",
       "      <th colspan=\"2\" halign=\"left\">United Nations[7]</th>\n",
       "    </tr>\n",
       "    <tr>\n",
       "      <th></th>\n",
       "      <th>Country/Territory</th>\n",
       "      <th>UN Region</th>\n",
       "      <th>Estimate</th>\n",
       "      <th>Year</th>\n",
       "      <th>Estimate</th>\n",
       "      <th>Year</th>\n",
       "      <th>Estimate</th>\n",
       "      <th>Year</th>\n",
       "    </tr>\n",
       "  </thead>\n",
       "  <tbody>\n",
       "    <tr>\n",
       "      <th>0</th>\n",
       "      <td>NaN</td>\n",
       "      <td>NaN</td>\n",
       "      <td>NaN</td>\n",
       "      <td>NaN</td>\n",
       "      <td>NaN</td>\n",
       "      <td>NaN</td>\n",
       "      <td>NaN</td>\n",
       "      <td>NaN</td>\n",
       "    </tr>\n",
       "    <tr>\n",
       "      <th>1</th>\n",
       "      <td>Monaco *</td>\n",
       "      <td>Europe</td>\n",
       "      <td>—</td>\n",
       "      <td>—</td>\n",
       "      <td>234316</td>\n",
       "      <td>2021</td>\n",
       "      <td>234317</td>\n",
       "      <td>2021</td>\n",
       "    </tr>\n",
       "    <tr>\n",
       "      <th>2</th>\n",
       "      <td>Liechtenstein *</td>\n",
       "      <td>Europe</td>\n",
       "      <td>—</td>\n",
       "      <td>—</td>\n",
       "      <td>157755</td>\n",
       "      <td>2020</td>\n",
       "      <td>169260</td>\n",
       "      <td>2021</td>\n",
       "    </tr>\n",
       "    <tr>\n",
       "      <th>3</th>\n",
       "      <td>Luxembourg *</td>\n",
       "      <td>Europe</td>\n",
       "      <td>127673</td>\n",
       "      <td>2022</td>\n",
       "      <td>133590</td>\n",
       "      <td>2021</td>\n",
       "      <td>133745</td>\n",
       "      <td>2021</td>\n",
       "    </tr>\n",
       "    <tr>\n",
       "      <th>4</th>\n",
       "      <td>Bermuda *</td>\n",
       "      <td>Americas</td>\n",
       "      <td>—</td>\n",
       "      <td>—</td>\n",
       "      <td>114090</td>\n",
       "      <td>2021</td>\n",
       "      <td>112653</td>\n",
       "      <td>2021</td>\n",
       "    </tr>\n",
       "  </tbody>\n",
       "</table>\n",
       "</div>"
      ],
      "text/plain": [
       "  Country/Territory UN Region IMF[4][5]       World Bank[6]        \\\n",
       "  Country/Territory UN Region  Estimate  Year      Estimate  Year   \n",
       "0               NaN       NaN       NaN   NaN           NaN   NaN   \n",
       "1          Monaco *    Europe         —     —        234316  2021   \n",
       "2   Liechtenstein *    Europe         —     —        157755  2020   \n",
       "3      Luxembourg *    Europe    127673  2022        133590  2021   \n",
       "4         Bermuda *  Americas         —     —        114090  2021   \n",
       "\n",
       "  United Nations[7]        \n",
       "           Estimate  Year  \n",
       "0               NaN   NaN  \n",
       "1            234317  2021  \n",
       "2            169260  2021  \n",
       "3            133745  2021  \n",
       "4            112653  2021  "
      ]
     },
     "execution_count": 7,
     "metadata": {},
     "output_type": "execute_result"
    }
   ],
   "source": [
    "tables[1].head()"
   ]
  },
  {
   "cell_type": "code",
   "execution_count": 8,
   "id": "c3af0df4",
   "metadata": {},
   "outputs": [],
   "source": [
    "data = tables[1]"
   ]
  },
  {
   "cell_type": "code",
   "execution_count": 9,
   "id": "dc646ce5",
   "metadata": {},
   "outputs": [
    {
     "data": {
      "text/plain": [
       "pandas.core.frame.DataFrame"
      ]
     },
     "execution_count": 9,
     "metadata": {},
     "output_type": "execute_result"
    }
   ],
   "source": [
    "type(data)"
   ]
  },
  {
   "cell_type": "code",
   "execution_count": 10,
   "id": "f751dde2",
   "metadata": {},
   "outputs": [
    {
     "data": {
      "text/plain": [
       "Country/Territory  Country/Territory    object\n",
       "UN Region          UN Region            object\n",
       "IMF[4][5]          Estimate             object\n",
       "                   Year                 object\n",
       "World Bank[6]      Estimate             object\n",
       "                   Year                 object\n",
       "United Nations[7]  Estimate             object\n",
       "                   Year                 object\n",
       "dtype: object"
      ]
     },
     "execution_count": 10,
     "metadata": {},
     "output_type": "execute_result"
    }
   ],
   "source": [
    "data.dtypes"
   ]
  },
  {
   "cell_type": "code",
   "execution_count": 13,
   "id": "f8a29e21",
   "metadata": {},
   "outputs": [],
   "source": [
    "data_list = data.values.tolist()[1:]"
   ]
  },
  {
   "cell_type": "code",
   "execution_count": 15,
   "id": "a29154a4",
   "metadata": {},
   "outputs": [
    {
     "data": {
      "text/plain": [
       "['Monaco\\u202f*', 'Europe', '—', '—', '234316', '2021', '234317', '2021']"
      ]
     },
     "execution_count": 15,
     "metadata": {},
     "output_type": "execute_result"
    }
   ],
   "source": [
    "data_list[0]"
   ]
  },
  {
   "cell_type": "code",
   "execution_count": 16,
   "id": "9dfda5b7",
   "metadata": {},
   "outputs": [],
   "source": [
    "data_items = []\n",
    "\n",
    "for item in data_list:\n",
    "    country = item[0]\n",
    "    gdp_pc_str = item[-2]\n",
    "    \n",
    "    if country.endswith('\\u202f*'):\n",
    "        country = country.replace('\\u202f*', '')\n",
    "        \n",
    "    if gdp_pc_str == '—':\n",
    "        gdp_pc = None\n",
    "    else:\n",
    "        gdp_pc = int(gdp_pc_str)\n",
    "        \n",
    "    data_items.append(\n",
    "        {\n",
    "            'country': country,\n",
    "            'gdp pc': gdp_pc\n",
    "        }\n",
    "    )"
   ]
  },
  {
   "cell_type": "code",
   "execution_count": 17,
   "id": "20b0b7d0",
   "metadata": {},
   "outputs": [
    {
     "data": {
      "text/plain": [
       "{'country': 'Monaco', 'gdp pc': 234317}"
      ]
     },
     "execution_count": 17,
     "metadata": {},
     "output_type": "execute_result"
    }
   ],
   "source": [
    "data_items[0]"
   ]
  },
  {
   "cell_type": "code",
   "execution_count": 18,
   "id": "069055d2",
   "metadata": {},
   "outputs": [
    {
     "name": "stdout",
     "output_type": "stream",
     "text": [
      "Monaco 234317\n",
      "Liechtenstein 169260\n",
      "Luxembourg 133745\n",
      "Bermuda 112653\n",
      "Ireland 101109\n",
      "Norway 89242\n",
      "Switzerland 93525\n",
      "Isle of Man None\n",
      "Cayman Islands 85250\n",
      "Qatar 66799\n",
      "Singapore 66822\n",
      "United States 69185\n",
      "Channel Islands None\n",
      "Iceland 69133\n",
      "Faroe Islands None\n",
      "Australia 66916\n",
      "Denmark 68037\n",
      "Greenland 58185\n",
      "Canada 52112\n",
      "Sweden 60730\n",
      "Netherlands 57871\n",
      "Israel 54111\n",
      "Austria 53840\n",
      "Finland 53703\n",
      "Belgium 51166\n",
      "Hong Kong 49259\n",
      "British Virgin Islands 49444\n",
      "Germany 51073\n",
      "United Arab Emirates 43295\n",
      "San Marino 50425\n",
      "United Kingdom 46542\n",
      "New Zealand 48824\n",
      "Brunei 31449\n",
      "France 44229\n",
      "Andorra 42066\n",
      "U.S. Virgin Islands None\n",
      "Puerto Rico 32716\n",
      "Kuwait 32150\n",
      "European Union *[n 1] 31875\n",
      "New Caledonia 34994\n",
      "Guam None\n",
      "Taiwan 33011\n",
      "Japan 39650\n",
      "Italy 35579\n",
      "Macau 43555\n",
      "South Korea 34940\n",
      "Malta 33642\n",
      "Bahamas 27478\n",
      "Aruba 29342\n",
      "Cyprus 32281\n",
      "Slovenia 29135\n",
      "Estonia 27991\n",
      "Spain 30058\n",
      "Bahrain 26563\n",
      "Czech Republic 26809\n",
      "Saudi Arabia 23186\n",
      "Sint Maarten (Dutch part) 26199\n",
      "Portugal 24651\n",
      "Lithuania 23844\n",
      "Northern Mariana Islands None\n",
      "Oman 19509\n",
      "Iran 6766\n",
      "Saint Martin (French part) None\n",
      "Latvia 21267\n",
      "Turks and Caicos Islands 20909\n",
      "Greece 20571\n",
      "Trinidad and Tobago 16033\n",
      "Slovakia 21390\n",
      "Seychelles 12085\n",
      "Uruguay 17313\n",
      "Barbados 17225\n",
      "French Polynesia 19915\n",
      "Cook Islands 19264\n",
      "Anguilla 19216\n",
      "Saint Kitts and Nevis 18083\n",
      "Poland 17736\n",
      "Hungary 18728\n",
      "Guyana 9999\n",
      "Curaçao 14183\n",
      "Croatia 16983\n",
      "Antigua and Barbuda 15246\n",
      "Montserrat 16199\n",
      "Panama 14618\n",
      "American Samoa None\n",
      "Romania 14698\n",
      "Chile 16265\n",
      "Maldives 10366\n",
      "Russia 12259\n",
      "Argentina 10761\n",
      "World 12230\n",
      "Malaysia 11101\n",
      "Costa Rica 12472\n",
      "China 12437\n",
      "Palau 12084\n",
      "Bulgaria 12207\n",
      "Turkmenistan 8508\n",
      "Kazakhstan 10055\n",
      "Equatorial Guinea 7605\n",
      "Cuba 11255\n",
      "Mexico 10046\n",
      "Saint Lucia 9824\n",
      "Dominican Republic 8477\n",
      "Grenada 8950\n",
      "Gabon 7911\n",
      "Nauru 12390\n",
      "Turkey 9661\n",
      "Montenegro 9252\n",
      "Serbia 8643\n",
      "Mauritius 8873\n",
      "Brazil 7507\n",
      "Belarus 7121\n",
      "Saint Vincent and the Grenadines 8440\n",
      "Dominica 7571\n",
      "Thailand 7067\n",
      "Botswana 6805\n",
      "Peru 6622\n",
      "Azerbaijan 5296\n",
      "Bosnia and Herzegovina 7143\n",
      "North Macedonia 6600\n",
      "Lebanon 6785\n",
      "Georgia 4975\n",
      "South Africa 7055\n",
      "Iraq 4686\n",
      "Colombia 6104\n",
      "Ecuador 5965\n",
      "Albania 6396\n",
      "Belize 6229\n",
      "Libya 5791\n",
      "Armenia 4967\n",
      "Tuvalu 5370\n",
      "Jamaica 5184\n",
      "Paraguay 6035\n",
      "Moldova 4468\n",
      "Fiji 4647\n",
      "Kosovo 5663\n",
      "Tonga 4451\n",
      "El Salvador 4551\n",
      "Guatemala 4883\n",
      "Suriname 5259\n",
      "Ukraine 4596\n",
      "Marshall Islands 6111\n",
      "Namibia 4836\n",
      "Indonesia 4333\n",
      "Jordan 4058\n",
      "Mongolia 4510\n",
      "Egypt 3898\n",
      "Vietnam 3756\n",
      "Algeria 3700\n",
      "Samoa 3919\n",
      "Micronesia 3573\n",
      "Eswatini 3969\n",
      "Morocco 3853\n",
      "Tunisia 3807\n",
      "Angola 2258\n",
      "Djibouti 3348\n",
      "Bolivia 3345\n",
      "Cape Verde 3293\n",
      "Philippines 3461\n",
      "Bhutan 3063\n",
      "Palestine 3514\n",
      "Papua New Guinea 2673\n",
      "Sri Lanka 3918\n",
      "Venezuela 3965\n",
      "Vanuatu 3073\n",
      "Honduras 2772\n",
      "Congo 2200\n",
      "Bangladesh 2450\n",
      "India 2274\n",
      "Zimbabwe 1508\n",
      "Ivory Coast 2539\n",
      "Nicaragua 2046\n",
      "Ghana 2409\n",
      "Mauritania 2166\n",
      "Nigeria 2019\n",
      "Kenya 2082\n",
      "Uzbekistan 2032\n",
      "Solomon Islands 2306\n",
      "São Tomé and Príncipe 2486\n",
      "Laos 2569\n",
      "East Timor 1517\n",
      "Cambodia 1608\n",
      "Kiribati 1765\n",
      "Haiti 1664\n",
      "Pakistan 1480\n",
      "Cameroon 1668\n",
      "Senegal 1637\n",
      "Kyrgyzstan 1339\n",
      "Benin 1361\n",
      "Zambia 1095\n",
      "Guinea 1185\n",
      "Comoros 1631\n",
      "Nepal 1159\n",
      "Tanzania 1136\n",
      "Zanzibar 1211\n",
      "Lesotho 1040\n",
      "Uganda 930\n",
      "Myanmar 1089\n",
      "Ethiopia 825\n",
      "Tajikistan 897\n",
      "Togo 944\n",
      "Syria 925\n",
      "Sudan 786\n",
      "Rwanda 822\n",
      "Yemen 302\n",
      "Mali 875\n",
      "Guinea-Bissau 759\n",
      "Gambia 772\n",
      "Burkina Faso 893\n",
      "Chad 955\n",
      "Liberia 471\n",
      "DR Congo 551\n",
      "North Korea 654\n",
      "Eritrea 623\n",
      "Niger 591\n",
      "Mozambique 492\n",
      "Somalia 447\n",
      "Malawi 613\n",
      "Madagascar 500\n",
      "Central African Republic 461\n",
      "Sierra Leone 505\n",
      "Afghanistan 373\n",
      "South Sudan 400\n",
      "Burundi 311\n"
     ]
    }
   ],
   "source": [
    "for item in data_items:\n",
    "    print(item['country'], item['gdp pc'])"
   ]
  },
  {
   "cell_type": "code",
   "execution_count": null,
   "id": "0f356164",
   "metadata": {},
   "outputs": [],
   "source": []
  }
 ],
 "metadata": {
  "kernelspec": {
   "display_name": "Python 3 (ipykernel)",
   "language": "python",
   "name": "python3"
  },
  "language_info": {
   "codemirror_mode": {
    "name": "ipython",
    "version": 3
   },
   "file_extension": ".py",
   "mimetype": "text/x-python",
   "name": "python",
   "nbconvert_exporter": "python",
   "pygments_lexer": "ipython3",
   "version": "3.9.13"
  }
 },
 "nbformat": 4,
 "nbformat_minor": 5
}
