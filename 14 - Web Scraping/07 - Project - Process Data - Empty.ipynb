{
 "cells": [
  {
   "cell_type": "markdown",
   "id": "97ed7f29",
   "metadata": {},
   "source": [
    "# Project - Process Data\n",
    "\n",
    "Continue with this page [GDP wiki](https://en.wikipedia.org/wiki/List_of_countries_by_GDP_(nominal)_per_capita)\n",
    "\n",
    "It contains data from IMF, World Bank, and United Nations.\n",
    "\n",
    "You job is to get the data and find the average value of the three estimates, but only if all three sources have a value.\n",
    "\n",
    "Write the result to a CSV file.\n",
    "\n",
    "To get started.\n",
    "0. What libraries can you use?\n",
    "1. Read the data and prepare it in a list.\n",
    "2. Convert the data.\n",
    "3. Process the data.\n",
    "4. Write the data."
   ]
  },
  {
   "cell_type": "code",
   "execution_count": null,
   "id": "e22e4550",
   "metadata": {},
   "outputs": [],
   "source": []
  },
  {
   "cell_type": "code",
   "execution_count": null,
   "id": "4b169f33",
   "metadata": {},
   "outputs": [],
   "source": []
  },
  {
   "cell_type": "code",
   "execution_count": null,
   "id": "fc4c5200",
   "metadata": {},
   "outputs": [],
   "source": []
  },
  {
   "cell_type": "code",
   "execution_count": null,
   "id": "13c94376",
   "metadata": {},
   "outputs": [],
   "source": []
  }
 ],
 "metadata": {
  "kernelspec": {
   "display_name": "Python 3 (ipykernel)",
   "language": "python",
   "name": "python3"
  },
  "language_info": {
   "codemirror_mode": {
    "name": "ipython",
    "version": 3
   },
   "file_extension": ".py",
   "mimetype": "text/x-python",
   "name": "python",
   "nbconvert_exporter": "python",
   "pygments_lexer": "ipython3",
   "version": "3.9.13"
  }
 },
 "nbformat": 4,
 "nbformat_minor": 5
}
