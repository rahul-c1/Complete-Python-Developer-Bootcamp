{
 "cells": [
  {
   "cell_type": "markdown",
   "id": "e5a450c6",
   "metadata": {},
   "source": [
    "# Scrape Image\n",
    "\n",
    "We can get all images from the following page [Python (wiki)](https://en.wikipedia.org/wiki/Python_(programming_language))\n",
    "\n",
    "```Python\n",
    "import requests\n",
    "import bs4\n",
    "\n",
    "url = 'https://en.wikipedia.org/wiki/Python_(programming_language)'\n",
    "response = requests.get(url)\n",
    "soup = bs4.BeautifulSoup(response.text, 'lxml')\n",
    "```\n",
    "\n",
    "Syntax to pass to the `.select()` method\n",
    "- `soup.select('div')` - All elements with the `<div>` tag\n",
    "- `soup.select('div span')` - All elements `<span>` that are within a `<div>` tag\n",
    "- `soup.select('#specific_id')` - HTML element containing `id` attribute of `specific_id`\n",
    "- `soup.select('.class_name')` - HTML elements with the CSS class `class_name`"
   ]
  },
  {
   "cell_type": "code",
   "execution_count": 1,
   "id": "6a5625e3",
   "metadata": {},
   "outputs": [],
   "source": [
    "import requests\n",
    "import bs4"
   ]
  },
  {
   "cell_type": "code",
   "execution_count": 2,
   "id": "2aa49898",
   "metadata": {},
   "outputs": [],
   "source": [
    "url = 'https://en.wikipedia.org/wiki/Python_(programming_language)'\n",
    "response = requests.get(url)\n",
    "soup = bs4.BeautifulSoup(response.text, 'lxml')"
   ]
  },
  {
   "cell_type": "code",
   "execution_count": 3,
   "id": "d781dd9c",
   "metadata": {},
   "outputs": [],
   "source": [
    "image_info = soup.select('.thumbimage')"
   ]
  },
  {
   "cell_type": "code",
   "execution_count": 5,
   "id": "7b558414",
   "metadata": {},
   "outputs": [
    {
     "data": {
      "text/plain": [
       "3"
      ]
     },
     "execution_count": 5,
     "metadata": {},
     "output_type": "execute_result"
    }
   ],
   "source": [
    "len(image_info)"
   ]
  },
  {
   "cell_type": "code",
   "execution_count": 7,
   "id": "7fb3830e",
   "metadata": {},
   "outputs": [
    {
     "data": {
      "text/plain": [
       "bs4.element.Tag"
      ]
     },
     "execution_count": 7,
     "metadata": {},
     "output_type": "execute_result"
    }
   ],
   "source": [
    "type(image_info[0])"
   ]
  },
  {
   "cell_type": "code",
   "execution_count": 8,
   "id": "6105fd96",
   "metadata": {},
   "outputs": [
    {
     "name": "stdout",
     "output_type": "stream",
     "text": [
      "//upload.wikimedia.org/wikipedia/commons/thumb/9/94/Guido_van_Rossum_OSCON_2006_cropped.png/150px-Guido_van_Rossum_OSCON_2006_cropped.png\n",
      "//upload.wikimedia.org/wikipedia/commons/thumb/c/c4/Python_3._The_standard_type_hierarchy-en.svg/220px-Python_3._The_standard_type_hierarchy-en.svg.png\n",
      "//upload.wikimedia.org/wikipedia/commons/thumb/b/bd/Python_Powered.png/220px-Python_Powered.png\n"
     ]
    }
   ],
   "source": [
    "for image in image_info:\n",
    "    print(image['src'])"
   ]
  },
  {
   "cell_type": "code",
   "execution_count": null,
   "id": "b82dbb09",
   "metadata": {},
   "outputs": [],
   "source": [
    "https://upload.wikimedia.org/wikipedia/commons/thumb/9/94/Guido_van_Rossum_OSCON_2006_cropped.png/150px-Guido_van_Rossum_OSCON_2006_cropped.png"
   ]
  },
  {
   "cell_type": "code",
   "execution_count": 12,
   "id": "257dbe63",
   "metadata": {},
   "outputs": [],
   "source": [
    "def get_image(url):\n",
    "    https_url = 'https:' + url\n",
    "    response = requests.get(https_url)\n",
    "    return response.content\n",
    "\n",
    "def save_image(content, image_name):\n",
    "    with open(image_name, 'wb') as f:\n",
    "        f.write(content)"
   ]
  },
  {
   "cell_type": "code",
   "execution_count": 13,
   "id": "66a00daf",
   "metadata": {},
   "outputs": [
    {
     "name": "stdout",
     "output_type": "stream",
     "text": [
      "150px-Guido_van_Rossum_OSCON_2006_cropped.png\n",
      "220px-Python_3._The_standard_type_hierarchy-en.svg.png\n",
      "220px-Python_Powered.png\n"
     ]
    }
   ],
   "source": [
    "for image in image_info:\n",
    "    image_name = image['src'].split('/')[-1]\n",
    "    print(image_name)\n",
    "    content = get_image(image['src'])\n",
    "    save_image(content, image_name)"
   ]
  },
  {
   "cell_type": "code",
   "execution_count": null,
   "id": "20547877",
   "metadata": {},
   "outputs": [],
   "source": []
  }
 ],
 "metadata": {
  "kernelspec": {
   "display_name": "Python 3 (ipykernel)",
   "language": "python",
   "name": "python3"
  },
  "language_info": {
   "codemirror_mode": {
    "name": "ipython",
    "version": 3
   },
   "file_extension": ".py",
   "mimetype": "text/x-python",
   "name": "python",
   "nbconvert_exporter": "python",
   "pygments_lexer": "ipython3",
   "version": "3.9.13"
  }
 },
 "nbformat": 4,
 "nbformat_minor": 5
}
