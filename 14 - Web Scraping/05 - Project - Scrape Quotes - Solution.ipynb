{
 "cells": [
  {
   "cell_type": "markdown",
   "id": "98b9d536",
   "metadata": {},
   "source": [
    "# Project - Scrape Quotes\n",
    "\n",
    "Your goal is to scrape all the quotes with authors from this page [http://quotes.toscrape.com](http://quotes.toscrape.com)\n",
    "\n",
    "To get you started.\n",
    "1. What libraries do you need in import\n",
    "2. Inspect the structure of the page\n",
    "3. Get a page and investigate it\n",
    "4. How can you structure a script"
   ]
  },
  {
   "cell_type": "code",
   "execution_count": 1,
   "id": "5069d62d",
   "metadata": {},
   "outputs": [],
   "source": [
    "import requests\n",
    "import bs4"
   ]
  },
  {
   "cell_type": "code",
   "execution_count": 10,
   "id": "bbc35295",
   "metadata": {},
   "outputs": [
    {
     "name": "stdout",
     "output_type": "stream",
     "text": [
      "crawling http://quotes.toscrape.com/page/1/\n",
      "crawling http://quotes.toscrape.com/page/2/\n",
      "crawling http://quotes.toscrape.com/page/3/\n",
      "crawling http://quotes.toscrape.com/page/4/\n",
      "crawling http://quotes.toscrape.com/page/5/\n",
      "crawling http://quotes.toscrape.com/page/6/\n",
      "crawling http://quotes.toscrape.com/page/7/\n",
      "crawling http://quotes.toscrape.com/page/8/\n",
      "crawling http://quotes.toscrape.com/page/9/\n",
      "crawling http://quotes.toscrape.com/page/10/\n",
      "crawling http://quotes.toscrape.com/page/11/\n",
      "No more quotes 11\n"
     ]
    }
   ],
   "source": [
    "base_url = 'http://quotes.toscrape.com/page/'\n",
    "\n",
    "quotes = []\n",
    "\n",
    "for i in range(1, 100):\n",
    "    url = base_url + str(i) + '/'\n",
    "    print('crawling', url)\n",
    "    \n",
    "    response = requests.get(url)\n",
    "    soup = bs4.BeautifulSoup(response.text, 'lxml')\n",
    "    \n",
    "    if len(soup.select('.quote')) == 0:\n",
    "        print('No more quotes', i)\n",
    "        break\n",
    "    \n",
    "    for quote_item in soup.select('.quote'):\n",
    "        quote_text = quote_item.select('.text')[0].text\n",
    "        quote_author = quote_item.select('.author')[0].text\n",
    "        \n",
    "        quotes.append(\n",
    "            {\n",
    "                'quote': quote_text,\n",
    "                'author': quote_author\n",
    "            }\n",
    "        )"
   ]
  },
  {
   "cell_type": "code",
   "execution_count": 9,
   "id": "20d99789",
   "metadata": {},
   "outputs": [
    {
     "name": "stdout",
     "output_type": "stream",
     "text": [
      "“The world as we have created it is a process of our thinking. It cannot be changed without changing our thinking.”\n",
      "  - Albert Einstein\n",
      "“It is our choices, Harry, that show what we truly are, far more than our abilities.”\n",
      "  - J.K. Rowling\n",
      "“There are only two ways to live your life. One is as though nothing is a miracle. The other is as though everything is a miracle.”\n",
      "  - Albert Einstein\n",
      "“The person, be it gentleman or lady, who has not pleasure in a good novel, must be intolerably stupid.”\n",
      "  - Jane Austen\n",
      "“Imperfection is beauty, madness is genius and it's better to be absolutely ridiculous than absolutely boring.”\n",
      "  - Marilyn Monroe\n",
      "“Try not to become a man of success. Rather become a man of value.”\n",
      "  - Albert Einstein\n",
      "“It is better to be hated for what you are than to be loved for what you are not.”\n",
      "  - André Gide\n",
      "“I have not failed. I've just found 10,000 ways that won't work.”\n",
      "  - Thomas A. Edison\n",
      "“A woman is like a tea bag; you never know how strong it is until it's in hot water.”\n",
      "  - Eleanor Roosevelt\n",
      "“A day without sunshine is like, you know, night.”\n",
      "  - Steve Martin\n"
     ]
    }
   ],
   "source": [
    "for quote in quotes:\n",
    "    print(quote['quote'])\n",
    "    print('  -', quote['author'])"
   ]
  },
  {
   "cell_type": "code",
   "execution_count": null,
   "id": "4f85942b",
   "metadata": {},
   "outputs": [],
   "source": []
  }
 ],
 "metadata": {
  "kernelspec": {
   "display_name": "Python 3 (ipykernel)",
   "language": "python",
   "name": "python3"
  },
  "language_info": {
   "codemirror_mode": {
    "name": "ipython",
    "version": 3
   },
   "file_extension": ".py",
   "mimetype": "text/x-python",
   "name": "python",
   "nbconvert_exporter": "python",
   "pygments_lexer": "ipython3",
   "version": "3.9.13"
  }
 },
 "nbformat": 4,
 "nbformat_minor": 5
}
