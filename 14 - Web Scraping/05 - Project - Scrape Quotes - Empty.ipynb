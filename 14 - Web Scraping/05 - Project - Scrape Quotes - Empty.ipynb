{
 "cells": [
  {
   "cell_type": "markdown",
   "id": "98b9d536",
   "metadata": {},
   "source": [
    "# Project - Scrape Quotes\n",
    "\n",
    "Your goal is to scrape all the quotes with authors from this page [http://quotes.toscrape.com](http://quotes.toscrape.com)\n",
    "\n",
    "To get you started.\n",
    "1. What libraries do you need in import\n",
    "2. Inspect the structure of the page\n",
    "3. Get a page and investigate it\n",
    "4. How can you structure a script"
   ]
  },
  {
   "cell_type": "code",
   "execution_count": null,
   "id": "79c28b06",
   "metadata": {},
   "outputs": [],
   "source": []
  },
  {
   "cell_type": "code",
   "execution_count": null,
   "id": "e77b0fb6",
   "metadata": {},
   "outputs": [],
   "source": []
  },
  {
   "cell_type": "code",
   "execution_count": null,
   "id": "64968443",
   "metadata": {},
   "outputs": [],
   "source": []
  },
  {
   "cell_type": "code",
   "execution_count": null,
   "id": "c9c71083",
   "metadata": {},
   "outputs": [],
   "source": []
  },
  {
   "cell_type": "code",
   "execution_count": null,
   "id": "ae436f94",
   "metadata": {},
   "outputs": [],
   "source": []
  }
 ],
 "metadata": {
  "kernelspec": {
   "display_name": "Python 3 (ipykernel)",
   "language": "python",
   "name": "python3"
  },
  "language_info": {
   "codemirror_mode": {
    "name": "ipython",
    "version": 3
   },
   "file_extension": ".py",
   "mimetype": "text/x-python",
   "name": "python",
   "nbconvert_exporter": "python",
   "pygments_lexer": "ipython3",
   "version": "3.9.13"
  }
 },
 "nbformat": 4,
 "nbformat_minor": 5
}
