{
 "cells": [
  {
   "cell_type": "markdown",
   "id": "97ed7f29",
   "metadata": {},
   "source": [
    "# Project - Process Data\n",
    "\n",
    "Continue with this page [GDP wiki](https://en.wikipedia.org/wiki/List_of_countries_by_GDP_(nominal)_per_capita)\n",
    "\n",
    "It contains data from IMF, World Bank, and United Nations.\n",
    "\n",
    "You job is to get the data and find the average value of the three estimates, but only if all three sources have a value.\n",
    "\n",
    "Write the result to a CSV file.\n",
    "\n",
    "To get started.\n",
    "0. What libraries can you use?\n",
    "1. Read the data and prepare it in a list.\n",
    "2. Convert the data.\n",
    "3. Process the data.\n",
    "4. Write the data."
   ]
  },
  {
   "cell_type": "code",
   "execution_count": 1,
   "id": "051d2e1a",
   "metadata": {},
   "outputs": [],
   "source": [
    "# Step 0: What librareis\n",
    "import pandas as pd"
   ]
  },
  {
   "cell_type": "code",
   "execution_count": 2,
   "id": "6c0d77df",
   "metadata": {},
   "outputs": [],
   "source": [
    "# Step 1: Read the data and prepare in a list\n",
    "\n",
    "url = 'https://en.wikipedia.org/wiki/List_of_countries_by_GDP_(nominal)_per_capita'\n",
    "\n",
    "tables = pd.read_html(url)"
   ]
  },
  {
   "cell_type": "code",
   "execution_count": 3,
   "id": "983c2754",
   "metadata": {},
   "outputs": [],
   "source": [
    "data = tables[1]\n",
    "data_list = data.values.tolist()[1:]"
   ]
  },
  {
   "cell_type": "code",
   "execution_count": 4,
   "id": "13c94376",
   "metadata": {},
   "outputs": [
    {
     "data": {
      "text/plain": [
       "['Monaco\\u202f*', 'Europe', '—', '—', '234316', '2021', '234317', '2021']"
      ]
     },
     "execution_count": 4,
     "metadata": {},
     "output_type": "execute_result"
    }
   ],
   "source": [
    "data_list[0]"
   ]
  },
  {
   "cell_type": "code",
   "execution_count": 7,
   "id": "7c544ddc",
   "metadata": {},
   "outputs": [
    {
     "name": "stdout",
     "output_type": "stream",
     "text": [
      "skipping Monaco * — 234316 234317\n",
      "skipping Liechtenstein * — 157755 169260\n",
      "skipping Bermuda * — 114090 112653\n",
      "skipping Isle of Man * — 87158 —\n",
      "skipping Cayman Islands * — 86569 85250\n",
      "skipping Channel Islands * — 75153 —\n",
      "skipping Faroe Islands * — 69010 —\n",
      "skipping Greenland * — 54571 58185\n",
      "skipping British Virgin Islands * — — 49444\n",
      "skipping U.S. Virgin Islands * — 39552 —\n",
      "skipping New Caledonia * — 37160 34994\n",
      "skipping Guam * — 35905 —\n",
      "skipping Taiwan * 35513 — 33011\n",
      "skipping Sint Maarten (Dutch part) * — 28988 26199\n",
      "skipping Northern Mariana Islands * — 23707 —\n",
      "skipping Saint Martin (French part) * — 21921 —\n",
      "skipping Turks and Caicos Islands * — 20909 20909\n",
      "skipping French Polynesia * — 19915 19915\n",
      "skipping Cook Islands * — — 19264\n",
      "skipping Anguilla * — — 19216\n",
      "skipping Curaçao * — 17718 14183\n",
      "skipping Montserrat * — — 16199\n",
      "skipping American Samoa * — 15743 —\n",
      "skipping Cuba * — 9500 11255\n",
      "skipping Zanzibar — — 1211\n",
      "skipping Syria * — 533 925\n",
      "skipping North Korea * — — 654\n"
     ]
    }
   ],
   "source": [
    "# Step 2: Convert the data\n",
    "def check_all_data(imf, wb, un):\n",
    "    if not imf.isdigit():\n",
    "        return False\n",
    "    if not wb.isdigit():\n",
    "        return False\n",
    "    if not un.isdigit():\n",
    "        return False\n",
    "    return True\n",
    "\n",
    "data_items = []\n",
    "\n",
    "for item in data_list:\n",
    "    country = item[0]\n",
    "    imf = item[2]\n",
    "    wb = item[4]\n",
    "    un = item[6]\n",
    "\n",
    "    if not check_all_data(imf, wb, un):\n",
    "        print('skipping', country, imf, wb, un)\n",
    "        continue\n",
    "        \n",
    "    if country.endswith('\\u202f*'):\n",
    "        country = country.replace('\\u202f*', '')\n",
    "        \n",
    "    data_items.append(\n",
    "        {\n",
    "            'country': country,\n",
    "            'imf': int(imf),\n",
    "            'wb': int(wb),\n",
    "            'un': int(un)\n",
    "        }\n",
    "    )"
   ]
  },
  {
   "cell_type": "code",
   "execution_count": 8,
   "id": "1e3d209d",
   "metadata": {},
   "outputs": [
    {
     "data": {
      "text/plain": [
       "{'country': 'Luxembourg', 'imf': 127673, 'wb': 133590, 'un': 133745}"
      ]
     },
     "execution_count": 8,
     "metadata": {},
     "output_type": "execute_result"
    }
   ],
   "source": [
    "data_items[0]"
   ]
  },
  {
   "cell_type": "code",
   "execution_count": 9,
   "id": "3e4e78c5",
   "metadata": {},
   "outputs": [],
   "source": [
    "# Step 3: Process the data.\n",
    "\n",
    "processed_data = []\n",
    "\n",
    "for item in data_items:\n",
    "    avg = int(round((item['imf'] + item['wb'] + item['un'])/3, 0))\n",
    "    \n",
    "    processed_data.append(\n",
    "        {\n",
    "            'country': item['country'],\n",
    "            'avg gdp pc': avg\n",
    "        }\n",
    "    )"
   ]
  },
  {
   "cell_type": "code",
   "execution_count": 10,
   "id": "076e7d9c",
   "metadata": {},
   "outputs": [
    {
     "data": {
      "text/plain": [
       "{'country': 'Luxembourg', 'avg gdp pc': 131669}"
      ]
     },
     "execution_count": 10,
     "metadata": {},
     "output_type": "execute_result"
    }
   ],
   "source": [
    "processed_data[0]"
   ]
  },
  {
   "cell_type": "code",
   "execution_count": 11,
   "id": "fe1b140d",
   "metadata": {},
   "outputs": [],
   "source": [
    "# Step 4: Write the data.\n",
    "\n",
    "import csv\n",
    "\n",
    "with open('records_v4.csv', 'w') as f:\n",
    "    csv_writer = csv.DictWriter(f, fieldnames=['country', 'avg gdp pc'])\n",
    "    csv_writer.writeheader()\n",
    "    csv_writer.writerows(processed_data)"
   ]
  },
  {
   "cell_type": "code",
   "execution_count": null,
   "id": "4f3f37b6",
   "metadata": {},
   "outputs": [],
   "source": []
  }
 ],
 "metadata": {
  "kernelspec": {
   "display_name": "Python 3 (ipykernel)",
   "language": "python",
   "name": "python3"
  },
  "language_info": {
   "codemirror_mode": {
    "name": "ipython",
    "version": 3
   },
   "file_extension": ".py",
   "mimetype": "text/x-python",
   "name": "python",
   "nbconvert_exporter": "python",
   "pygments_lexer": "ipython3",
   "version": "3.9.13"
  }
 },
 "nbformat": 4,
 "nbformat_minor": 5
}
