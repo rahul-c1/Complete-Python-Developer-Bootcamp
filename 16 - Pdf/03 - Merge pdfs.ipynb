{
 "cells": [
  {
   "cell_type": "markdown",
   "id": "fc794fd0",
   "metadata": {},
   "source": [
    "# Merge pdfs\n",
    "\n",
    "From the [docs](https://pypdf.readthedocs.io/en/stable/user/merging-pdfs.html)\n",
    "\n",
    "```Python\n",
    "from pypdf import PdfWriter\n",
    "\n",
    "merger = PdfWriter()\n",
    "\n",
    "for pdf in [\"file1.pdf\", \"file2.pdf\", \"file3.pdf\"]:\n",
    "    merger.append(pdf)\n",
    "\n",
    "merger.write(\"merged-pdf.pdf\")\n",
    "merger.close()\n",
    "```"
   ]
  },
  {
   "cell_type": "code",
   "execution_count": 1,
   "id": "831c6f0c",
   "metadata": {},
   "outputs": [],
   "source": [
    "import glob\n",
    "from pypdf import PdfWriter"
   ]
  },
  {
   "cell_type": "code",
   "execution_count": 2,
   "id": "30bd9ef4",
   "metadata": {},
   "outputs": [],
   "source": [
    "pdfs = glob.glob('docs-pdf/*.pdf')"
   ]
  },
  {
   "cell_type": "code",
   "execution_count": 4,
   "id": "eb8c0591",
   "metadata": {},
   "outputs": [
    {
     "data": {
      "text/plain": [
       "['docs-pdf/c-api.pdf',\n",
       " 'docs-pdf/distributing.pdf',\n",
       " 'docs-pdf/extending.pdf',\n",
       " 'docs-pdf/faq.pdf',\n",
       " 'docs-pdf/howto-annotations.pdf',\n",
       " 'docs-pdf/howto-argparse.pdf',\n",
       " 'docs-pdf/howto-clinic.pdf',\n",
       " 'docs-pdf/howto-cporting.pdf',\n",
       " 'docs-pdf/howto-curses.pdf',\n",
       " 'docs-pdf/howto-descriptor.pdf',\n",
       " 'docs-pdf/howto-enum.pdf',\n",
       " 'docs-pdf/howto-functional.pdf',\n",
       " 'docs-pdf/howto-instrumentation.pdf',\n",
       " 'docs-pdf/howto-ipaddress.pdf',\n",
       " 'docs-pdf/howto-isolating-extensions.pdf',\n",
       " 'docs-pdf/howto-logging-cookbook.pdf',\n",
       " 'docs-pdf/howto-logging.pdf',\n",
       " 'docs-pdf/howto-pyporting.pdf',\n",
       " 'docs-pdf/howto-regex.pdf',\n",
       " 'docs-pdf/howto-sockets.pdf',\n",
       " 'docs-pdf/howto-sorting.pdf',\n",
       " 'docs-pdf/howto-unicode.pdf',\n",
       " 'docs-pdf/howto-urllib2.pdf',\n",
       " 'docs-pdf/installing.pdf',\n",
       " 'docs-pdf/library.pdf',\n",
       " 'docs-pdf/reference.pdf',\n",
       " 'docs-pdf/tutorial.pdf',\n",
       " 'docs-pdf/using.pdf',\n",
       " 'docs-pdf/whatsnew.pdf']"
      ]
     },
     "execution_count": 4,
     "metadata": {},
     "output_type": "execute_result"
    }
   ],
   "source": [
    "pdfs.sort()\n",
    "\n",
    "pdfs"
   ]
  },
  {
   "cell_type": "code",
   "execution_count": 5,
   "id": "f21211ad",
   "metadata": {},
   "outputs": [],
   "source": [
    "merger = PdfWriter()\n",
    "\n",
    "for pdf in pdfs:\n",
    "    merger.append(pdf)\n",
    "\n",
    "merger.write(\"docs.pdf\")\n",
    "merger.close()"
   ]
  },
  {
   "cell_type": "code",
   "execution_count": null,
   "id": "d204ee94",
   "metadata": {},
   "outputs": [],
   "source": []
  }
 ],
 "metadata": {
  "kernelspec": {
   "display_name": "Python 3 (ipykernel)",
   "language": "python",
   "name": "python3"
  },
  "language_info": {
   "codemirror_mode": {
    "name": "ipython",
    "version": 3
   },
   "file_extension": ".py",
   "mimetype": "text/x-python",
   "name": "python",
   "nbconvert_exporter": "python",
   "pygments_lexer": "ipython3",
   "version": "3.9.13"
  }
 },
 "nbformat": 4,
 "nbformat_minor": 5
}
