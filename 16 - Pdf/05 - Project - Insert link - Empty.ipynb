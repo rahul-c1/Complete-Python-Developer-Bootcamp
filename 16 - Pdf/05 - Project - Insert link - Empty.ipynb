{
 "cells": [
  {
   "cell_type": "markdown",
   "id": "a90293e9",
   "metadata": {},
   "source": [
    "# Project - Insert Links in Pdf\n",
    "\n",
    "Given the a pdf-file (could be `watemarked.pdf`).\n",
    "\n",
    "Insert a black box in the upper right with the text `python.org` and a link to `https://python.org/`.\n",
    "\n",
    "To find out how, look at the documentation [here](https://pypdf.readthedocs.io/en/stable/user/adding-pdf-annotations.html)\n",
    "\n",
    "To simplify, try first to do it for one page and when you succeed, try if you can extend that solution to insert the box with link on each page of a full document."
   ]
  },
  {
   "cell_type": "code",
   "execution_count": null,
   "id": "ea090042",
   "metadata": {},
   "outputs": [],
   "source": []
  },
  {
   "cell_type": "code",
   "execution_count": null,
   "id": "780aa4c9",
   "metadata": {},
   "outputs": [],
   "source": []
  },
  {
   "cell_type": "code",
   "execution_count": null,
   "id": "391a6f82",
   "metadata": {},
   "outputs": [],
   "source": []
  },
  {
   "cell_type": "code",
   "execution_count": null,
   "id": "68434298",
   "metadata": {},
   "outputs": [],
   "source": []
  }
 ],
 "metadata": {
  "kernelspec": {
   "display_name": "Python 3 (ipykernel)",
   "language": "python",
   "name": "python3"
  },
  "language_info": {
   "codemirror_mode": {
    "name": "ipython",
    "version": 3
   },
   "file_extension": ".py",
   "mimetype": "text/x-python",
   "name": "python",
   "nbconvert_exporter": "python",
   "pygments_lexer": "ipython3",
   "version": "3.9.13"
  }
 },
 "nbformat": 4,
 "nbformat_minor": 5
}
