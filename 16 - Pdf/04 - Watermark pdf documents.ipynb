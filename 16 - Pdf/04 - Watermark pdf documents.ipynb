{
 "cells": [
  {
   "cell_type": "markdown",
   "id": "41f044bb",
   "metadata": {},
   "source": [
    "# Watermark pdf documents\n",
    "\n",
    "You can watermark a pdf document [docs](https://pypdf.readthedocs.io/en/stable/user/add-watermark.html#stamp-overlay)\n",
    "\n",
    "Modified example\n",
    "```Python\n",
    "from pathlib import Path\n",
    "\n",
    "from pypdf import PdfWriter, PdfReader, Transformation\n",
    "\n",
    "\n",
    "def stamp(\n",
    "    content_pdf: Path,\n",
    "    watermark_pdf: Path,\n",
    "    pdf_result: Path,\n",
    "):\n",
    "    watermark_page = PdfReader(watermark_pdf).pages[0]\n",
    "\n",
    "    writer = PdfWriter()\n",
    "\n",
    "    reader = PdfReader(content_pdf)\n",
    "    \n",
    "    page_indices = list(range(0, len(reader.pages)))\n",
    "    \n",
    "    for index in page_indices:\n",
    "        content_page = reader.pages[index]\n",
    "        content_page.merge_transformed_page(\n",
    "            watermark_page,\n",
    "            Transformation(),\n",
    "            over=False\n",
    "        )\n",
    "        writer.add_page(content_page)\n",
    "\n",
    "    with open(pdf_result, \"wb\") as fp:\n",
    "        writer.write(fp)\n",
    "```"
   ]
  },
  {
   "cell_type": "code",
   "execution_count": 1,
   "id": "a7745234",
   "metadata": {},
   "outputs": [],
   "source": [
    "from pathlib import Path\n",
    "\n",
    "from pypdf import PdfWriter, PdfReader, Transformation\n",
    "\n",
    "\n",
    "def stamp(\n",
    "    content_pdf: Path,\n",
    "    watermark_pdf: Path,\n",
    "    pdf_result: Path,\n",
    "):\n",
    "    watermark_page = PdfReader(watermark_pdf).pages[0]\n",
    "\n",
    "    writer = PdfWriter()\n",
    "\n",
    "    reader = PdfReader(content_pdf)\n",
    "    \n",
    "    page_indices = list(range(0, len(reader.pages)))\n",
    "    \n",
    "    for index in page_indices:\n",
    "        content_page = reader.pages[index]\n",
    "        content_page.merge_transformed_page(\n",
    "            watermark_page,\n",
    "            Transformation(),\n",
    "            over=False\n",
    "        )\n",
    "        writer.add_page(content_page)\n",
    "\n",
    "    with open(pdf_result, \"wb\") as fp:\n",
    "        writer.write(fp)"
   ]
  },
  {
   "cell_type": "code",
   "execution_count": 2,
   "id": "fd20a982",
   "metadata": {},
   "outputs": [],
   "source": [
    "stamp(\n",
    "    Path('docs-pdf/howto-sorting.pdf'),\n",
    "    Path('python.pdf'),\n",
    "    Path('watermarked.pdf')\n",
    ")"
   ]
  },
  {
   "cell_type": "code",
   "execution_count": null,
   "id": "472e95d9",
   "metadata": {},
   "outputs": [],
   "source": []
  },
  {
   "cell_type": "code",
   "execution_count": null,
   "id": "b015ba43",
   "metadata": {},
   "outputs": [],
   "source": []
  }
 ],
 "metadata": {
  "kernelspec": {
   "display_name": "Python 3 (ipykernel)",
   "language": "python",
   "name": "python3"
  },
  "language_info": {
   "codemirror_mode": {
    "name": "ipython",
    "version": 3
   },
   "file_extension": ".py",
   "mimetype": "text/x-python",
   "name": "python",
   "nbconvert_exporter": "python",
   "pygments_lexer": "ipython3",
   "version": "3.9.13"
  }
 },
 "nbformat": 4,
 "nbformat_minor": 5
}
