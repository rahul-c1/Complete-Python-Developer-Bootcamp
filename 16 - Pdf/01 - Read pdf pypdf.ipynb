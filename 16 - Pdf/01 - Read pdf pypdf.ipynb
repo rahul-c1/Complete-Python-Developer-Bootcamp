{
 "cells": [
  {
   "cell_type": "markdown",
   "id": "c5e2c388",
   "metadata": {},
   "source": [
    "# Read pdf pypdf\n",
    "\n",
    "From [docs](https://pypdf.readthedocs.io/en/stable/user/extract-text.html)\n",
    "\n",
    "```Python\n",
    "from pypdf import PdfReader\n",
    "\n",
    "reader = PdfReader(\"example.pdf\")\n",
    "page = reader.pages[0]\n",
    "print(page.extract_text())\n",
    "```"
   ]
  },
  {
   "cell_type": "code",
   "execution_count": 1,
   "id": "d72488db",
   "metadata": {},
   "outputs": [],
   "source": [
    "from pypdf import PdfReader"
   ]
  },
  {
   "cell_type": "code",
   "execution_count": 2,
   "id": "c91b0211",
   "metadata": {},
   "outputs": [
    {
     "name": "stdout",
     "output_type": "stream",
     "text": [
      "Business Proposal The Revolution is Coming Leverage agile frameworks to provide a robust synopsis for high level overviews. Iterative approaches to corporate strategy foster collaborative thinking to further the overall value proposition. Organically grow the holistic world view of disruptive innovation via workplace diversity and empowerment. Bring to the table win-win survival strategies to ensure proactive domination. At the end of the day, going forward, a new normal that has evolved from generation X is on the runway heading towards a streamlined cloud solution. User generated content in real-time will have multiple touchpoints for offshoring. Capitalize on low hanging fruit to identify a ballpark value added activity to beta test. Override the digital divide with additional clickthroughs from DevOps. Nanotechnology immersion along the information highway will close the loop on focusing solely on the bottom line. Podcasting operational change management inside of workﬂows to establish a framework. Taking seamless key performance indicators ofﬂine to maximise the long tail. Keeping your eye on the ball while performing a deep dive on the start-up mentality to derive convergence on cross-platform integration. Collaboratively administrate empowered markets via plug-and-play networks. Dynamically procrastinate B2C users after installed base beneﬁts. Dramatically visualize customer directed convergence without revolutionary ROI. Efﬁciently unleash cross-media information without cross-media value. Quickly maximize timely deliverables for real-time schemas. Dramatically maintain clicks-and-mortar solutions without functional solutions. BUSINESS PROPOSAL!1\n"
     ]
    }
   ],
   "source": [
    "reader = PdfReader(\"example.pdf\")\n",
    "page = reader.pages[0]\n",
    "print(page.extract_text())"
   ]
  },
  {
   "cell_type": "code",
   "execution_count": 3,
   "id": "61ae3e79",
   "metadata": {},
   "outputs": [],
   "source": [
    "reader = PdfReader('docs-pdf/howto-sorting.pdf')"
   ]
  },
  {
   "cell_type": "code",
   "execution_count": 4,
   "id": "60b92864",
   "metadata": {},
   "outputs": [
    {
     "data": {
      "text/plain": [
       "5"
      ]
     },
     "execution_count": 4,
     "metadata": {},
     "output_type": "execute_result"
    }
   ],
   "source": [
    "len(reader.pages)"
   ]
  },
  {
   "cell_type": "code",
   "execution_count": 5,
   "id": "a31b6911",
   "metadata": {},
   "outputs": [
    {
     "data": {
      "text/plain": [
       "{'/Creator': 'LaTeX with hyperref',\n",
       " '/Title': 'Sorting HOW TO',\n",
       " '/Author': 'Guido van Rossum and the Python development team',\n",
       " '/Producer': 'xdvipdfmx (20190824)',\n",
       " '/CreationDate': \"D:20230309074724-00'00'\"}"
      ]
     },
     "execution_count": 5,
     "metadata": {},
     "output_type": "execute_result"
    }
   ],
   "source": [
    "reader.metadata"
   ]
  },
  {
   "cell_type": "code",
   "execution_count": 6,
   "id": "bbecb66e",
   "metadata": {},
   "outputs": [
    {
     "name": "stdout",
     "output_type": "stream",
     "text": [
      "Sorting HOW TO\n",
      "Release 3.11.2\n",
      "Guido van Rossum and the Python development team\n",
      "March 09, 2023\n",
      "Python Software Foundation\n",
      "Email: docs@python.org\n",
      "Contents\n",
      "1 Sorting Basics 1\n",
      "2 Key Functions 2\n",
      "3 Operator Module Functions 3\n",
      "4 Ascending and Descending 3\n",
      "5 Sort Stability and Complex Sorts 3\n",
      "6 Decorate-Sort-Undecorate 4\n",
      "7 Comparison Functions 4\n",
      "8 Odds and Ends 5\n",
      "Author Andrew Dalke and Raymond Hettinger\n",
      "Release 0.1\n",
      "Python lists have a built-in list.sort() method that modifies the list in-place. There is also a sorted()\n",
      "built-in function that builds a new sorted list from an iterable.\n",
      "In this document, we explore the various techniques for sorting data using Python.\n",
      "1Sorting Basics\n",
      "A simple ascending sort is very easy: just call the sorted() function. It returns a new sorted list:\n",
      ">>> sorted ([5,2,3,1,4])\n",
      "[1, 2, 3, 4, 5]\n",
      "You can also use the list.sort() method. It modifies the list in-place (and returns None to avoid confusion).\n",
      "Usually it’s less convenient than sorted() - but if you don’t need the original list, it’s slightly more efficient.\n",
      "1\n",
      ">>> a=[5,2,3,1,4]\n",
      ">>> a.sort()\n",
      ">>> a\n",
      "[1, 2, 3, 4, 5]\n",
      "Another difference is that the list.sort() method is only defined for lists. In contrast, the sorted() function\n",
      "accepts any iterable.\n",
      ">>> sorted ({1:'D',2:'B',3:'B',4:'E',5:'A'})\n",
      "[1, 2, 3, 4, 5]\n",
      "2Key Functions\n",
      "Bothlist.sort() andsorted() have a keyparameter to specify a function (or other callable) to be called on\n",
      "each list element prior to making comparisons.\n",
      "For example, here’s a case-insensitive string comparison:\n",
      ">>> sorted (\"This is a test string from Andrew \".split(), key =str.lower)\n",
      "['a', 'Andrew', 'from', 'is', 'string', 'test', 'This']\n",
      "The value of the keyparameter should be a function (or other callable) that takes a single argument and returns a\n",
      "key to use for sorting purposes. This technique is fast because the key function is called exactly once for each input\n",
      "record.\n",
      "A common pattern is to sort complex objects using some of the object’s indices as keys. For example:\n",
      ">>> student_tuples =[\n",
      "... ('john ','A',15),\n",
      "... ('jane ','B',12),\n",
      "... ('dave ','B',10),\n",
      "... ]\n",
      ">>> sorted (student_tuples, key =lambda student: student[ 2]) # sort by age\n",
      "[('dave', 'B', 10), ('jane', 'B', 12), ('john', 'A', 15)]\n",
      "The same technique works for objects with named attributes. For example:\n",
      ">>> class Student :\n",
      "... def __init__ (self , name, grade, age):\n",
      "... self .name =name\n",
      "... self .grade =grade\n",
      "... self .age =age\n",
      "... def __repr__ (self ):\n",
      "... return repr ((self .name, self .grade, self .age))\n",
      ">>> student_objects =[\n",
      "... Student( 'john ','A',15),\n",
      "... Student( 'jane ','B',12),\n",
      "... Student( 'dave ','B',10),\n",
      "... ]\n",
      ">>> sorted (student_objects, key =lambda student: student .age) # sort by age\n",
      "[('dave', 'B', 10), ('jane', 'B', 12), ('john', 'A', 15)]\n",
      "2\n",
      "3Operator Module Functions\n",
      "The key-function patterns shown above are very common, so Python provides convenience functions to make\n",
      "accessor functions easier and faster. The operator module has itemgetter() ,attrgetter() , and a\n",
      "methodcaller() function.\n",
      "Using those functions, the above examples become simpler and faster:\n",
      ">>> from operator import itemgetter, attrgetter\n",
      ">>> sorted (student_tuples, key =itemgetter( 2))\n",
      "[('dave', 'B', 10), ('jane', 'B', 12), ('john', 'A', 15)]\n",
      ">>> sorted (student_objects, key =attrgetter( 'age'))\n",
      "[('dave', 'B', 10), ('jane', 'B', 12), ('john', 'A', 15)]\n",
      "The operator module functions allow multiple levels of sorting. For example, to sort by grade then by age:\n",
      ">>> sorted (student_tuples, key =itemgetter( 1,2))\n",
      "[('john', 'A', 15), ('dave', 'B', 10), ('jane', 'B', 12)]\n",
      ">>> sorted (student_objects, key =attrgetter( 'grade ','age'))\n",
      "[('john', 'A', 15), ('dave', 'B', 10), ('jane', 'B', 12)]\n",
      "4Ascending and Descending\n",
      "Bothlist.sort() andsorted() accept a reverse parameter with a boolean value. This is used to flag descend-\n",
      "ing sorts. For example, to get the student data in reverse ageorder:\n",
      ">>> sorted (student_tuples, key =itemgetter( 2), reverse =True )\n",
      "[('john', 'A', 15), ('jane', 'B', 12), ('dave', 'B', 10)]\n",
      ">>> sorted (student_objects, key =attrgetter( 'age'), reverse =True )\n",
      "[('john', 'A', 15), ('jane', 'B', 12), ('dave', 'B', 10)]\n",
      "5Sort Stability and Complex Sorts\n",
      "Sorts are guaranteed to be stable. That means that when multiple records have the same key, their original order is\n",
      "preserved.\n",
      ">>> data =[('red',1), ( 'blue ',1), ( 'red',2), ( 'blue ',2)]\n",
      ">>> sorted (data, key =itemgetter( 0))\n",
      "[('blue', 1), ('blue', 2), ('red', 1), ('red', 2)]\n",
      "Notice how the two records for blueretain their original order so that ('blue', 1) is guaranteed to precede\n",
      "('blue', 2) .\n",
      "This wonderful property lets you build complex sorts in a series of sorting steps. For example, to sort the student data\n",
      "by descending grade and then ascending age, do the agesort first and then sort again using grade:\n",
      ">>> s=sorted (student_objects, key =attrgetter( 'age')) # sort on secondary key\n",
      ">>> sorted (s, key =attrgetter( 'grade '), reverse =True ) # now sort on primary ␣\n",
      ",→key, descending\n",
      "[('dave', 'B', 10), ('jane', 'B', 12), ('john', 'A', 15)]\n",
      "This can be abstracted out into a wrapper function that can take a list and tuples of field and order to sort them on\n",
      "multiple passes.\n",
      "3\n",
      ">>> def multisort (xs, specs):\n",
      "... for key, reverse inreversed (specs):\n",
      "... xs.sort(key =attrgetter(key), reverse =reverse)\n",
      "... return xs\n",
      ">>> multisort( list (student_objects), (( 'grade ',True ), ( 'age',False )))\n",
      "[('dave', 'B', 10), ('jane', 'B', 12), ('john', 'A', 15)]\n",
      "TheTimsort algorithm used in Python does multiple sorts efficiently because it can take advantage of any ordering\n",
      "already present in a dataset.\n",
      "6Decorate-Sort-Undecorate\n",
      "This idiom is called Decorate-Sort-Undecorate after its three steps:\n",
      "•First, the initial list is decorated with new values that control the sort order.\n",
      "•Second, the decorated list is sorted.\n",
      "•Finally, the decorations are removed, creating a list that contains only the initial values in the new order.\n",
      "For example, to sort the student data by grade using the DSU approach:\n",
      ">>> decorated =[(student .grade, i, student) for i, student inenumerate (student_\n",
      ",→objects)]\n",
      ">>> decorated .sort()\n",
      ">>> [student for grade, i, student indecorated] # undecorate\n",
      "[('john', 'A', 15), ('jane', 'B', 12), ('dave', 'B', 10)]\n",
      "This idiom works because tuples are compared lexicographically; the first items are compared; if they are the same\n",
      "then the second items are compared, and so on.\n",
      "It is not strictly necessary in all cases to include the index iin the decorated list, but including it gives two benefits:\n",
      "•The sort is stable – if two items have the same key, their order will be preserved in the sorted list.\n",
      "•The original items do not have to be comparable because the ordering of the decorated tuples will be determined\n",
      "by at most the first two items. So for example the original list could contain complex numbers which cannot\n",
      "be sorted directly.\n",
      "Another name for this idiom is Schwartzian transform , after Randal L. Schwartz, who popularized it among Perl\n",
      "programmers.\n",
      "Now that Python sorting provides key-functions, this technique is not often needed.\n",
      "7Comparison Functions\n",
      "Unlike key functions that return an absolute value for sorting, a comparison function computes the relative ordering\n",
      "for two inputs.\n",
      "For example, a balance scale compares two samples giving a relative ordering: lighter, equal, or heavier. Likewise, a\n",
      "comparison function such as cmp(a, b) will return a negative value for less-than, zero if the inputs are equal, or\n",
      "a positive value for greater-than.\n",
      "It is common to encounter comparison functions when translating algorithms from other languages. Also, some\n",
      "libraries provide comparison functions as part of their API. For example, locale.strcoll() is a comparison\n",
      "function.\n",
      "To accommodate those situations, Python provides functools.cmp_to_key to wrap the comparison function\n",
      "to make it usable as a key function:\n",
      "4\n",
      "sorted (words, key =cmp_to_key(strcoll)) # locale-aware sort order\n",
      "8Odds and Ends\n",
      "•For locale aware sorting, use locale.strxfrm() for a key function or locale.strcoll() for a\n",
      "comparison function. This is necessary because “alphabetical” sort orderings can vary across cultures even if\n",
      "the underlying alphabet is the same.\n",
      "•Thereverse parameter still maintains sort stability (so that records with equal keys retain the original order).\n",
      "Interestingly, that effect can be simulated without the parameter by using the builtin reversed() function\n",
      "twice:\n",
      ">>> data =[('red',1), ( 'blue ',1), ( 'red',2), ( 'blue ',2)]\n",
      ">>> standard_way =sorted (data, key =itemgetter( 0), reverse =True )\n",
      ">>> double_reversed =list (reversed (sorted (reversed (data), key =itemgetter( 0))))\n",
      ">>> assert standard_way ==double_reversed\n",
      ">>> standard_way\n",
      "[('red', 1), ('red', 2), ('blue', 1), ('blue', 2)]\n",
      "•The sort routines use <when making comparisons between two objects. So, it is easy to add a standard sort\n",
      "order to a class by defining an __lt__() method:\n",
      ">>> Student .__lt__ =lambda self , other: self .age <other .age\n",
      ">>> sorted (student_objects)\n",
      "[('dave', 'B', 10), ('jane', 'B', 12), ('john', 'A', 15)]\n",
      "However, note that <can fall back to using __gt__() if__lt__() is not implemented (see object.\n",
      "__lt__() ).\n",
      "•Key functions need not depend directly on the objects being sorted. A key function can also access external\n",
      "resources. For instance, if the student grades are stored in a dictionary, they can be used to sort a separate list\n",
      "of student names:\n",
      ">>> students =['dave ','john ','jane ']\n",
      ">>> newgrades ={'john ':'F','jane ':'A','dave ':'C'}\n",
      ">>> sorted (students, key =newgrades .__getitem__ )\n",
      "['jane', 'dave', 'john']\n",
      "5\n"
     ]
    }
   ],
   "source": [
    "for page in reader.pages:\n",
    "    print(page.extract_text())"
   ]
  },
  {
   "cell_type": "code",
   "execution_count": 7,
   "id": "2f380447",
   "metadata": {},
   "outputs": [],
   "source": [
    "reader = PdfReader('docs-pdf/tutorial.pdf')"
   ]
  },
  {
   "cell_type": "code",
   "execution_count": 8,
   "id": "c6f68b2c",
   "metadata": {},
   "outputs": [
    {
     "data": {
      "text/plain": [
       "'PythonTutorial,Release3.11.2\\nNowthatyouareallexcitedaboutPython,you’llwanttoexamineitinsomemoredetail. Sincethebestwaytolearn\\nalanguageistouseit,thetutorialinvitesyoutoplaywiththePythoninterpreterasyouread.\\nIn the next chapter, the mechanics of using the interpreter are explained. This is rather mundane information, but\\nessentialfortryingouttheexamplesshownlater.\\nThe rest of the tutorial introduces various features of the Python language and system through examples, begin-\\nning with simple expressions, statements and data types, through functions and modules, and finally touching upon\\nadvancedconceptslikeexceptionsanduser-definedclasses.\\n4 Chapter1. WhettingYourAppetite'"
      ]
     },
     "execution_count": 8,
     "metadata": {},
     "output_type": "execute_result"
    }
   ],
   "source": [
    "reader.pages[9].extract_text()"
   ]
  },
  {
   "cell_type": "code",
   "execution_count": null,
   "id": "1ea5c2f3",
   "metadata": {},
   "outputs": [],
   "source": []
  }
 ],
 "metadata": {
  "kernelspec": {
   "display_name": "Python 3 (ipykernel)",
   "language": "python",
   "name": "python3"
  },
  "language_info": {
   "codemirror_mode": {
    "name": "ipython",
    "version": 3
   },
   "file_extension": ".py",
   "mimetype": "text/x-python",
   "name": "python",
   "nbconvert_exporter": "python",
   "pygments_lexer": "ipython3",
   "version": "3.9.13"
  }
 },
 "nbformat": 4,
 "nbformat_minor": 5
}
