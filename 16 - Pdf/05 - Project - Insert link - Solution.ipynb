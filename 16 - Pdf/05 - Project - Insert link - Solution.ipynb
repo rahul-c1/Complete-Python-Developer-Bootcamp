{
 "cells": [
  {
   "cell_type": "markdown",
   "id": "a90293e9",
   "metadata": {},
   "source": [
    "# Project - Insert Links in Pdf\n",
    "\n",
    "Given the a pdf-file (could be `watemarked.pdf`).\n",
    "\n",
    "Insert a black box in the upper right with the text `python.org` and a link to `https://python.org/`.\n",
    "\n",
    "To find out how, look at the documentation [here](https://pypdf.readthedocs.io/en/stable/user/adding-pdf-annotations.html)\n",
    "\n",
    "To simplify, try first to do it for one page and when you succeed, try if you can extend that solution to insert the box with link on each page of a full document."
   ]
  },
  {
   "cell_type": "code",
   "execution_count": 1,
   "id": "552fd0c5",
   "metadata": {},
   "outputs": [],
   "source": [
    "from pypdf import PdfReader, PdfWriter\n",
    "from pypdf.generic import AnnotationBuilder"
   ]
  },
  {
   "cell_type": "code",
   "execution_count": 4,
   "id": "314ff0d0",
   "metadata": {},
   "outputs": [],
   "source": [
    "pdf_path = 'watermarked.pdf'\n",
    "reader = PdfReader(pdf_path)\n",
    "writer = PdfWriter()\n",
    "\n",
    "\n",
    "for idx, page in enumerate(reader.pages):\n",
    "    writer.add_page(page)\n",
    "\n",
    "    # Create the annotation and add it\n",
    "    annotation = AnnotationBuilder.free_text(\n",
    "        \"python.org\",\n",
    "        rect=(0, 822, 200, 842),\n",
    "        font=\"Arial\",\n",
    "        bold=True,\n",
    "        italic=True,\n",
    "        font_size=\"14pt\",\n",
    "        font_color=\"aaaaaa\",\n",
    "        border_color=\"ffffff\",\n",
    "        background_color=\"000000\",\n",
    "    )\n",
    "    writer.add_annotation(page_number=idx, annotation=annotation)\n",
    "\n",
    "\n",
    "    # Add the line\n",
    "    annotation = AnnotationBuilder.link(\n",
    "        rect=(0, 822, 200, 842),\n",
    "        url=\"https://python.org/\",\n",
    "    )\n",
    "    writer.add_annotation(page_number=idx, annotation=annotation)\n",
    "\n",
    "# Write the annotated file to disk\n",
    "with open(\"annotated-pdf.pdf\", \"wb\") as fp:\n",
    "    writer.write(fp)"
   ]
  },
  {
   "cell_type": "code",
   "execution_count": null,
   "id": "daefbb91",
   "metadata": {},
   "outputs": [],
   "source": []
  }
 ],
 "metadata": {
  "kernelspec": {
   "display_name": "Python 3 (ipykernel)",
   "language": "python",
   "name": "python3"
  },
  "language_info": {
   "codemirror_mode": {
    "name": "ipython",
    "version": 3
   },
   "file_extension": ".py",
   "mimetype": "text/x-python",
   "name": "python",
   "nbconvert_exporter": "python",
   "pygments_lexer": "ipython3",
   "version": "3.9.13"
  }
 },
 "nbformat": 4,
 "nbformat_minor": 5
}
