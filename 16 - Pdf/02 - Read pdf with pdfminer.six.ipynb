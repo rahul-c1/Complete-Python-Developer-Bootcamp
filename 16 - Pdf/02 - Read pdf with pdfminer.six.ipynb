{
 "cells": [
  {
   "cell_type": "markdown",
   "id": "2c8d0882",
   "metadata": {},
   "source": [
    "# Read pdf with pdfminer.six\n",
    "\n",
    "From the [docs](https://pdfminersix.readthedocs.io/en/latest/tutorial/composable.html)\n",
    "\n",
    "```Python\n",
    "from pdfminer.high_level import extract_text\n",
    "\n",
    "text = extract_text('samples/simple1.pdf')\n",
    "print(text)\n",
    "```"
   ]
  },
  {
   "cell_type": "code",
   "execution_count": 1,
   "id": "b1d38c7e",
   "metadata": {},
   "outputs": [],
   "source": [
    "from pdfminer.high_level import extract_text"
   ]
  },
  {
   "cell_type": "code",
   "execution_count": 2,
   "id": "a8489a55",
   "metadata": {},
   "outputs": [],
   "source": [
    "text = extract_text('docs-pdf/tutorial.pdf')"
   ]
  },
  {
   "cell_type": "code",
   "execution_count": 5,
   "id": "b0848261",
   "metadata": {},
   "outputs": [
    {
     "data": {
      "text/plain": [
       "'Python Tutorial\\nRelease 3.11.2\\n\\nGuido van Rossum and the Python development team\\n\\nMarch 09, 2023\\n\\nPy'"
      ]
     },
     "execution_count": 5,
     "metadata": {},
     "output_type": "execute_result"
    }
   ],
   "source": [
    "text[:100]"
   ]
  },
  {
   "cell_type": "code",
   "execution_count": 6,
   "id": "2cd0a0f4",
   "metadata": {},
   "outputs": [
    {
     "data": {
      "text/plain": [
       "349701"
      ]
     },
     "execution_count": 6,
     "metadata": {},
     "output_type": "execute_result"
    }
   ],
   "source": [
    "len(text)"
   ]
  },
  {
   "cell_type": "code",
   "execution_count": 9,
   "id": "29a1bcd9",
   "metadata": {},
   "outputs": [],
   "source": [
    "page_numbers = [8, 9]\n",
    "\n",
    "for page_number in page_numbers:\n",
    "    text = extract_text('docs-pdf/tutorial.pdf', page_numbers=[page_number])\n"
   ]
  },
  {
   "cell_type": "code",
   "execution_count": 10,
   "id": "47ed8ddb",
   "metadata": {},
   "outputs": [
    {
     "data": {
      "text/plain": [
       "'Python Tutorial, Release 3.11.2\\n\\nNow that you are all excited about Python, you’ll want to examine it in some more detail. Since the best way to learn\\na language is to use it, the tutorial invites you to play with the Python interpreter as you read.\\n\\nIn the next chapter, the mechanics of using the interpreter are explained. This is rather mundane information, but\\nessential for trying out the examples shown later.\\n\\nThe rest of the tutorial introduces various features of the Python language and system through examples, begin-\\nning with simple expressions, statements and data types, through functions and modules, and finally touching upon\\nadvanced concepts like exceptions and user-defined classes.\\n\\n4\\n\\nChapter 1. Whetting Your Appetite\\n\\n\\x0c'"
      ]
     },
     "execution_count": 10,
     "metadata": {},
     "output_type": "execute_result"
    }
   ],
   "source": [
    "text"
   ]
  },
  {
   "cell_type": "code",
   "execution_count": 11,
   "id": "540b2d88",
   "metadata": {},
   "outputs": [],
   "source": [
    "text = extract_text('docs-pdf/tutorial.pdf', page_numbers=page_numbers)"
   ]
  },
  {
   "cell_type": "code",
   "execution_count": 12,
   "id": "c0f1cca9",
   "metadata": {},
   "outputs": [
    {
     "data": {
      "text/plain": [
       "'CHAPTER\\n\\nONE\\n\\nWHETTING YOUR APPETITE\\n\\nIf you do much work on computers, eventually you find that there’s some task you’d like to automate. For example,\\nyou may wish to perform a search-and-replace over a large number of text files, or rename and rearrange a bunch\\nof photo files in a complicated way. Perhaps you’d like to write a small custom database, or a specialized GUI\\napplication, or a simple game.\\n\\nIf you’re a professional software developer, you may have to work with several C/C++/Java libraries but find the usual\\nwrite/compile/test/re-compile cycle is too slow. Perhaps you’re writing a test suite for such a library and find writing\\nthe testing code a tedious task. Or maybe you’ve written a program that could use an extension language, and you\\ndon’t want to design and implement a whole new language for your application.\\n\\nPython is just the language for you.\\n\\nYou could write a Unix shell script or Windows batch files for some of these tasks, but shell scripts are best at moving\\naround files and changing text data, not well-suited for GUI applications or games. You could write a C/C++/Java\\nprogram, but it can take a lot of development time to get even a first-draft program. Python is simpler to use, available\\non Windows, macOS, and Unix operating systems, and will help you get the job done more quickly.\\n\\nPython is simple to use, but it is a real programming language, offering much more structure and support for large\\nprograms than shell scripts or batch files can offer. On the other hand, Python also offers much more error checking\\nthan C, and, being a very-high-level language, it has high-level data types built in, such as flexible arrays and dictio-\\nnaries. Because of its more general data types Python is applicable to a much larger problem domain than Awk or\\neven Perl, yet many things are at least as easy in Python as in those languages.\\n\\nPython allows you to split your program into modules that can be reused in other Python programs. It comes with a\\nlarge collection of standard modules that you can use as the basis of your programs — or as examples to start learning\\nto program in Python. Some of these modules provide things like file I/O, system calls, sockets, and even interfaces\\nto graphical user interface toolkits like Tk.\\n\\nPython is an interpreted language, which can save you considerable time during program development because no\\ncompilation and linking is necessary. The interpreter can be used interactively, which makes it easy to experiment with\\nfeatures of the language, to write throw-away programs, or to test functions during bottom-up program development.\\nIt is also a handy desk calculator.\\n\\nPython enables programs to be written compactly and readably. Programs written in Python are typically much\\nshorter than equivalent C, C++, or Java programs, for several reasons:\\n\\n• the high-level data types allow you to express complex operations in a single statement;\\n\\n• statement grouping is done by indentation instead of beginning and ending brackets;\\n\\n• no variable or argument declarations are necessary.\\n\\nPython is extensible: if you know how to program in C it is easy to add a new built-in function or module to the\\ninterpreter, either to perform critical operations at maximum speed, or to link Python programs to libraries that may\\nonly be available in binary form (such as a vendor-specific graphics library). Once you are really hooked, you can\\nlink the Python interpreter into an application written in C and use it as an extension or command language for that\\napplication.\\n\\nBy the way, the language is named after the BBC show “Monty Python’s Flying Circus” and has nothing to do with\\nreptiles. Making references to Monty Python skits in documentation is not only allowed, it is encouraged!\\n\\n3\\n\\n\\x0cPython Tutorial, Release 3.11.2\\n\\nNow that you are all excited about Python, you’ll want to examine it in some more detail. Since the best way to learn\\na language is to use it, the tutorial invites you to play with the Python interpreter as you read.\\n\\nIn the next chapter, the mechanics of using the interpreter are explained. This is rather mundane information, but\\nessential for trying out the examples shown later.\\n\\nThe rest of the tutorial introduces various features of the Python language and system through examples, begin-\\nning with simple expressions, statements and data types, through functions and modules, and finally touching upon\\nadvanced concepts like exceptions and user-defined classes.\\n\\n4\\n\\nChapter 1. Whetting Your Appetite\\n\\n\\x0c'"
      ]
     },
     "execution_count": 12,
     "metadata": {},
     "output_type": "execute_result"
    }
   ],
   "source": [
    "text"
   ]
  },
  {
   "cell_type": "code",
   "execution_count": 13,
   "id": "fb1c2ad4",
   "metadata": {},
   "outputs": [],
   "source": [
    "pages = []\n",
    "\n",
    "page_numbers = [8, 9]\n",
    "\n",
    "for page_number in page_numbers:\n",
    "    text = extract_text('docs-pdf/tutorial.pdf', page_numbers=[page_number])\n",
    "    \n",
    "    lines = text.splitlines()\n",
    "    \n",
    "    if lines[0] == 'CHAPTER':\n",
    "        pages.append('\\n'.join(lines[4:-4]))\n",
    "    else:\n",
    "        pages.append('\\n'.join(lines[2:-6]))\n"
   ]
  },
  {
   "cell_type": "code",
   "execution_count": 15,
   "id": "975b67c1",
   "metadata": {},
   "outputs": [
    {
     "data": {
      "text/plain": [
       "'\\nNow that you are all excited about Python, you’ll want to examine it in some more detail. Since the best way to learn\\na language is to use it, the tutorial invites you to play with the Python interpreter as you read.\\n\\nIn the next chapter, the mechanics of using the interpreter are explained. This is rather mundane information, but\\nessential for trying out the examples shown later.\\n\\nThe rest of the tutorial introduces various features of the Python language and system through examples, begin-\\nning with simple expressions, statements and data types, through functions and modules, and finally touching upon\\nadvanced concepts like exceptions and user-defined classes.'"
      ]
     },
     "execution_count": 15,
     "metadata": {},
     "output_type": "execute_result"
    }
   ],
   "source": [
    "pages[1]"
   ]
  },
  {
   "cell_type": "code",
   "execution_count": null,
   "id": "e68ed919",
   "metadata": {},
   "outputs": [],
   "source": []
  }
 ],
 "metadata": {
  "kernelspec": {
   "display_name": "Python 3 (ipykernel)",
   "language": "python",
   "name": "python3"
  },
  "language_info": {
   "codemirror_mode": {
    "name": "ipython",
    "version": 3
   },
   "file_extension": ".py",
   "mimetype": "text/x-python",
   "name": "python",
   "nbconvert_exporter": "python",
   "pygments_lexer": "ipython3",
   "version": "3.9.13"
  }
 },
 "nbformat": 4,
 "nbformat_minor": 5
}
