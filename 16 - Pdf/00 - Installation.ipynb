{
 "cells": [
  {
   "cell_type": "markdown",
   "id": "5e52fb4c",
   "metadata": {},
   "source": [
    "# Installation\n",
    "\n",
    "There are a lot of pdf readers and writers and some a specialized.\n",
    "\n",
    "We will use [pypdf](https://pypdf.readthedocs.io/en/stable/index.html)\n",
    "\n",
    "To install it run.\n",
    "\n",
    "```\n",
    "!conda install -c conda-forge -y pypdf2\n",
    "```\n",
    "\n",
    "And use [pdfminer.six](https://pdfminersix.readthedocs.io/en/latest/index.html)\n",
    "\n",
    "```\n",
    "!conda install -c conda-forge -y pdfminer.six\n",
    "```"
   ]
  },
  {
   "cell_type": "code",
   "execution_count": 1,
   "id": "e80e0793",
   "metadata": {},
   "outputs": [
    {
     "name": "stdout",
     "output_type": "stream",
     "text": [
      "Retrieving notices: ...working... done\n",
      "Collecting package metadata (current_repodata.json): done\n",
      "Solving environment: done\n",
      "\n",
      "## Package Plan ##\n",
      "\n",
      "  environment location: /Users/rune/opt/anaconda3\n",
      "\n",
      "  added / updated specs:\n",
      "    - pypdf2\n",
      "\n",
      "\n",
      "The following packages will be downloaded:\n",
      "\n",
      "    package                    |            build\n",
      "    ---------------------------|-----------------\n",
      "    pypdf2-2.11.1              |     pyhd8ed1ab_0         175 KB  conda-forge\n",
      "    ------------------------------------------------------------\n",
      "                                           Total:         175 KB\n",
      "\n",
      "The following packages will be UPDATED:\n",
      "\n",
      "  pypdf2             pkgs/main/osx-64::pypdf2-2.10.5-py39h~ --> conda-forge/noarch::pypdf2-2.11.1-pyhd8ed1ab_0 \n",
      "\n",
      "\n",
      "\n",
      "Downloading and Extracting Packages\n",
      "                                                                                \n",
      "Preparing transaction: done\n",
      "Verifying transaction: done\n",
      "Executing transaction: done\n"
     ]
    }
   ],
   "source": [
    "!conda install -c conda-forge -y pypdf2"
   ]
  },
  {
   "cell_type": "code",
   "execution_count": 2,
   "id": "a11f8d8d",
   "metadata": {},
   "outputs": [
    {
     "name": "stdout",
     "output_type": "stream",
     "text": [
      "Collecting package metadata (current_repodata.json): done\n",
      "Solving environment: done\n",
      "\n",
      "# All requested packages already installed.\n",
      "\n"
     ]
    }
   ],
   "source": [
    "!conda install -c conda-forge -y pdfminer.six"
   ]
  },
  {
   "cell_type": "code",
   "execution_count": null,
   "id": "8b47cfa5",
   "metadata": {},
   "outputs": [],
   "source": []
  }
 ],
 "metadata": {
  "kernelspec": {
   "display_name": "Python 3 (ipykernel)",
   "language": "python",
   "name": "python3"
  },
  "language_info": {
   "codemirror_mode": {
    "name": "ipython",
    "version": 3
   },
   "file_extension": ".py",
   "mimetype": "text/x-python",
   "name": "python",
   "nbconvert_exporter": "python",
   "pygments_lexer": "ipython3",
   "version": "3.9.13"
  }
 },
 "nbformat": 4,
 "nbformat_minor": 5
}
