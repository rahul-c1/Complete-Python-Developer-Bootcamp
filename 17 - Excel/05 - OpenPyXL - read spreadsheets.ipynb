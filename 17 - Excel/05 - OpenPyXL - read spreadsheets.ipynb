{
 "cells": [
  {
   "cell_type": "markdown",
   "id": "b6eac4bd",
   "metadata": {},
   "source": [
    "# OpenPyXL - read spreadsheets\n",
    "\n",
    "> \"openpyxl is a Python library to read/write Excel 2010 xlsx/xlsm/xltx/xltm files.\" [docs](https://openpyxl.readthedocs.io/en/stable/)\n",
    "\n",
    "\n",
    "To read and get the content of the active sheet.\n",
    "\n",
    "```Python\n",
    "import openpyxl\n",
    "\n",
    "# Load content from workbook (spreadsheet)\n",
    "wb = openpyxl.load_workbook('example-01.xlsx')\n",
    "\n",
    "# Get the active sheet\n",
    "sheet = wb.active\n",
    "\n",
    "# Convert all content to a list\n",
    "cnt = list(sheet.values)\n",
    "```"
   ]
  },
  {
   "cell_type": "code",
   "execution_count": 1,
   "id": "647800e3",
   "metadata": {},
   "outputs": [],
   "source": [
    "import openpyxl"
   ]
  },
  {
   "cell_type": "code",
   "execution_count": 2,
   "id": "03477ef9",
   "metadata": {},
   "outputs": [],
   "source": [
    "# Load content from workbook (spreadsheet)\n",
    "wb = openpyxl.load_workbook('example-01.xlsx')\n",
    "\n",
    "# Get the active sheet\n",
    "sheet = wb.active\n",
    "\n",
    "# Convert all content to a list\n",
    "cnt = list(sheet.values)"
   ]
  },
  {
   "cell_type": "code",
   "execution_count": 3,
   "id": "f0feb828",
   "metadata": {},
   "outputs": [
    {
     "data": {
      "text/plain": [
       "[('James', 200),\n",
       " ('Jones', 250),\n",
       " ('Jasper', 125),\n",
       " ('Jason', 175),\n",
       " ('Total', '=SUM(B1:B4)')]"
      ]
     },
     "execution_count": 3,
     "metadata": {},
     "output_type": "execute_result"
    }
   ],
   "source": [
    "cnt"
   ]
  },
  {
   "cell_type": "code",
   "execution_count": 5,
   "id": "f5f7aca3",
   "metadata": {},
   "outputs": [
    {
     "data": {
      "text/plain": [
       "'James'"
      ]
     },
     "execution_count": 5,
     "metadata": {},
     "output_type": "execute_result"
    }
   ],
   "source": [
    "cnt[0][0]"
   ]
  },
  {
   "cell_type": "code",
   "execution_count": null,
   "id": "c983444a",
   "metadata": {},
   "outputs": [],
   "source": []
  }
 ],
 "metadata": {
  "kernelspec": {
   "display_name": "Python 3 (ipykernel)",
   "language": "python",
   "name": "python3"
  },
  "language_info": {
   "codemirror_mode": {
    "name": "ipython",
    "version": 3
   },
   "file_extension": ".py",
   "mimetype": "text/x-python",
   "name": "python",
   "nbconvert_exporter": "python",
   "pygments_lexer": "ipython3",
   "version": "3.9.13"
  }
 },
 "nbformat": 4,
 "nbformat_minor": 5
}
