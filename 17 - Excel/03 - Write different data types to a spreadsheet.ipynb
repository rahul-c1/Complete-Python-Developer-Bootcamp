{
 "cells": [
  {
   "cell_type": "markdown",
   "id": "7fd8d461",
   "metadata": {},
   "source": [
    "# Write different data types to a spreadsheet\n",
    "\n",
    "You can use specific write methods.\n",
    "```Python\n",
    "worksheet.write_string(row, col, name)\n",
    "worksheet.write_datetime(row, col + 1, date)\n",
    "worksheet.write_number(row, col + 2, cost)\n",
    "```\n",
    "\n",
    "Working with dates you will use `datetime` and the `strptime()` ([docs](https://docs.python.org/3/library/datetime.html#datetime.datetime.strptime)) method.\n",
    "- To see the format [docs](https://docs.python.org/3/library/datetime.html#strftime-and-strptime-format-codes)\n",
    "\n",
    "```Python\n",
    "from datetime import datetime\n",
    "\n",
    "date = datetime.strptime(date_str, '%Y-%m-%d')\n",
    "```\n",
    "\n",
    "Date format ([docs](https://xlsxwriter.readthedocs.io/format.html#set_num_format))\n",
    "```Python\n",
    "date_format = workbook.add_format({'num_format': 'mmmm d yyyy'})\n",
    "```\n",
    "\n",
    "The width of the cell ([docs](https://xlsxwriter.readthedocs.io/worksheet.html#set_column))\n",
    "```Python\n",
    "worksheet.set_column('B:B', 15)\n",
    "```\n"
   ]
  },
  {
   "cell_type": "code",
   "execution_count": 1,
   "id": "486084fb",
   "metadata": {},
   "outputs": [],
   "source": [
    "from datetime import datetime\n",
    "\n",
    "date_str = '2023-10-01'\n",
    "\n",
    "d = datetime.strptime(date_str, '%Y-%m-%d')"
   ]
  },
  {
   "cell_type": "code",
   "execution_count": 2,
   "id": "5116f0f7",
   "metadata": {},
   "outputs": [
    {
     "data": {
      "text/plain": [
       "datetime.datetime(2023, 10, 1, 0, 0)"
      ]
     },
     "execution_count": 2,
     "metadata": {},
     "output_type": "execute_result"
    }
   ],
   "source": [
    "d"
   ]
  },
  {
   "cell_type": "code",
   "execution_count": null,
   "id": "124db36f",
   "metadata": {},
   "outputs": [],
   "source": []
  },
  {
   "cell_type": "code",
   "execution_count": 4,
   "id": "2e784374",
   "metadata": {},
   "outputs": [],
   "source": [
    "from datetime import datetime\n",
    "import xlsxwriter\n",
    "\n",
    "workbook = xlsxwriter.Workbook('example-03.xlsx')\n",
    "worksheet = workbook.add_worksheet('My data')\n",
    "\n",
    "data = [\n",
    "    ['James', '2023-10-01', 200],\n",
    "    ['Jones', '2023-07-24', 250],\n",
    "    ['Jasper', '2024-03-21', 125],\n",
    "    ['Jason', '2023-12-31', 175]\n",
    "]\n",
    "\n",
    "\n",
    "bold = workbook.add_format({'bold': True})\n",
    "money = workbook.add_format({'num_format': '$#,##0'})\n",
    "total = workbook.add_format({'bold': True, 'num_format': '$#,##0'})\n",
    "date_format = workbook.add_format({'num_format': 'mmmm d yyyy'})\n",
    "\n",
    "worksheet.write('A1', 'Name', bold)\n",
    "worksheet.write('B1', 'Date', bold)\n",
    "worksheet.set_column('B:B', 15)\n",
    "worksheet.write('C1', 'Debt', bold)\n",
    "\n",
    "row = 1\n",
    "col = 0\n",
    "\n",
    "for name, date_str, cost in data:\n",
    "    date = datetime.strptime(date_str, '%Y-%m-%d')\n",
    "        \n",
    "    worksheet.write_string(row, col, name)\n",
    "    worksheet.write_datetime(row, col + 1, date, date_format)\n",
    "    worksheet.write_number(row, col + 2, cost, money)\n",
    "    row += 1\n",
    "    \n",
    "worksheet.write(row, 0, 'Total', bold)\n",
    "worksheet.write(row, 2, '=SUM(C2:C5)', total)\n",
    "\n",
    "workbook.close()"
   ]
  },
  {
   "cell_type": "code",
   "execution_count": null,
   "id": "05026486",
   "metadata": {},
   "outputs": [],
   "source": []
  }
 ],
 "metadata": {
  "kernelspec": {
   "display_name": "Python 3 (ipykernel)",
   "language": "python",
   "name": "python3"
  },
  "language_info": {
   "codemirror_mode": {
    "name": "ipython",
    "version": 3
   },
   "file_extension": ".py",
   "mimetype": "text/x-python",
   "name": "python",
   "nbconvert_exporter": "python",
   "pygments_lexer": "ipython3",
   "version": "3.9.13"
  }
 },
 "nbformat": 4,
 "nbformat_minor": 5
}
