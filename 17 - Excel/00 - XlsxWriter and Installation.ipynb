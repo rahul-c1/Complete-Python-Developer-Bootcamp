{
 "cells": [
  {
   "cell_type": "markdown",
   "id": "0f3846fd",
   "metadata": {},
   "source": [
    "# XlsxWriter and Installation\n",
    "\n",
    "> \"XlsxWriter is a Python module that can be used to write text, numbers, formulas and hyperlinks to multiple worksheets in an Excel 2007+ XLSX file\" ([docs](https://xlsxwriter.readthedocs.io))\n",
    "\n",
    "Notice that it can only write Excel worksheets, not read or modify existing worksheets.\n",
    "\n",
    "To install it\n",
    "\n",
    "```\n",
    "!conda install -y XlsxWriter\n",
    "```\n",
    "\n",
    "Installation of OpenPyXL\n",
    "```\n",
    "!conda install -y openpyxl\n",
    "```"
   ]
  },
  {
   "cell_type": "code",
   "execution_count": 1,
   "id": "4555d763",
   "metadata": {},
   "outputs": [
    {
     "name": "stdout",
     "output_type": "stream",
     "text": [
      "Collecting package metadata (current_repodata.json): done\n",
      "Solving environment: done\n",
      "\n",
      "## Package Plan ##\n",
      "\n",
      "  environment location: /Users/rune/opt/anaconda3\n",
      "\n",
      "  added / updated specs:\n",
      "    - xlsxwriter\n",
      "\n",
      "\n",
      "The following packages will be UPDATED:\n",
      "\n",
      "  ca-certificates    conda-forge::ca-certificates-2022.12.~ --> pkgs/main::ca-certificates-2023.01.10-hecd8cb5_0 \n",
      "\n",
      "The following packages will be SUPERSEDED by a higher-priority channel:\n",
      "\n",
      "  certifi            conda-forge/noarch::certifi-2022.12.7~ --> pkgs/main/osx-64::certifi-2022.12.7-py39hecd8cb5_0 \n",
      "  conda              conda-forge::conda-23.1.0-py39h6e9494~ --> pkgs/main::conda-23.1.0-py39hecd8cb5_0 \n",
      "  openssl            conda-forge::openssl-1.1.1t-hfd90126_0 --> pkgs/main::openssl-1.1.1t-hca72f7f_0 \n",
      "\n",
      "\n",
      "\n",
      "Downloading and Extracting Packages\n",
      "\n",
      "Preparing transaction: done\n",
      "Verifying transaction: done\n",
      "Executing transaction: done\n"
     ]
    }
   ],
   "source": [
    "!conda install -y XlsxWriter"
   ]
  },
  {
   "cell_type": "code",
   "execution_count": null,
   "id": "66c2f47c",
   "metadata": {},
   "outputs": [],
   "source": [
    "!conda install -y openpyxl"
   ]
  }
 ],
 "metadata": {
  "kernelspec": {
   "display_name": "Python 3 (ipykernel)",
   "language": "python",
   "name": "python3"
  },
  "language_info": {
   "codemirror_mode": {
    "name": "ipython",
    "version": 3
   },
   "file_extension": ".py",
   "mimetype": "text/x-python",
   "name": "python",
   "nbconvert_exporter": "python",
   "pygments_lexer": "ipython3",
   "version": "3.9.13"
  }
 },
 "nbformat": 4,
 "nbformat_minor": 5
}
