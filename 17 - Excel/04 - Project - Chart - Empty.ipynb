{
 "cells": [
  {
   "cell_type": "markdown",
   "id": "c2b2eb14",
   "metadata": {},
   "source": [
    "# Project - Chart\n",
    "\n",
    "In this project you will create a chart in your spreadsheet.\n",
    "\n",
    "Use your existing spreadsheet and see if you can find a chart from the [docs](https://xlsxwriter.readthedocs.io/chart_examples.html) that you can insert.\n",
    "\n",
    "```Python\n",
    "from datetime import datetime\n",
    "import xlsxwriter\n",
    "\n",
    "workbook = xlsxwriter.Workbook('example-04.xlsx')\n",
    "worksheet = workbook.add_worksheet('My data')\n",
    "\n",
    "data = [\n",
    "    ['James', '2023-10-01', 200],\n",
    "    ['Jones', '2023-07-24', 250],\n",
    "    ['Jasper', '2024-03-21', 125],\n",
    "    ['Jason', '2023-12-31', 175]\n",
    "]\n",
    "\n",
    "\n",
    "bold = workbook.add_format({'bold': True})\n",
    "money = workbook.add_format({'num_format': '$#,##0'})\n",
    "total = workbook.add_format({'bold': True, 'num_format': '$#,##0'})\n",
    "date_format = workbook.add_format({'num_format': 'mmmm d yyyy'})\n",
    "\n",
    "worksheet.write('A1', 'Name', bold)\n",
    "worksheet.write('B1', 'Date', bold)\n",
    "worksheet.set_column('B:B', 15)\n",
    "worksheet.write('C1', 'Debt', bold)\n",
    "\n",
    "row = 1\n",
    "col = 0\n",
    "\n",
    "for name, date_str, cost in data:\n",
    "    date = datetime.strptime(date_str, '%Y-%m-%d')\n",
    "        \n",
    "    worksheet.write_string(row, col, name)\n",
    "    worksheet.write_datetime(row, col + 1, date, date_format)\n",
    "    worksheet.write_number(row, col + 2, cost, money)\n",
    "    row += 1\n",
    "    \n",
    "worksheet.write(row, 0, 'Total', bold)\n",
    "worksheet.write(row, 2, '=SUM(B2:B5)', total)\n",
    "\n",
    "workbook.close()\n",
    "```"
   ]
  },
  {
   "cell_type": "code",
   "execution_count": null,
   "id": "850db55e",
   "metadata": {},
   "outputs": [],
   "source": []
  },
  {
   "cell_type": "code",
   "execution_count": null,
   "id": "533d6f19",
   "metadata": {},
   "outputs": [],
   "source": []
  },
  {
   "cell_type": "code",
   "execution_count": null,
   "id": "18bf855c",
   "metadata": {},
   "outputs": [],
   "source": []
  }
 ],
 "metadata": {
  "kernelspec": {
   "display_name": "Python 3 (ipykernel)",
   "language": "python",
   "name": "python3"
  },
  "language_info": {
   "codemirror_mode": {
    "name": "ipython",
    "version": 3
   },
   "file_extension": ".py",
   "mimetype": "text/x-python",
   "name": "python",
   "nbconvert_exporter": "python",
   "pygments_lexer": "ipython3",
   "version": "3.9.13"
  }
 },
 "nbformat": 4,
 "nbformat_minor": 5
}
