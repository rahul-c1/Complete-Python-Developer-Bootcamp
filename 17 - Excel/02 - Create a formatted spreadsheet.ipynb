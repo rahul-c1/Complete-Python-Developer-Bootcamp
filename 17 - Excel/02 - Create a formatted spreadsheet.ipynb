{
 "cells": [
  {
   "cell_type": "markdown",
   "id": "7ff13e97",
   "metadata": {},
   "source": [
    "# Create a formatted spreadsheet\n",
    "\n",
    "You can add formatting to a cell.\n",
    "\n",
    "This requires you create format.\n",
    "\n",
    "```Python\n",
    "import xlsxwriter\n",
    "\n",
    "workbook = xlsxwriter.Workbook('example-02.xlsx')\n",
    "worksheet = workbook.add_worksheet('My data')\n",
    "\n",
    "bold = workbook.add_format({'bold': True})\n",
    "money = workbook.add_format({'num_format': '$#,##0'})\n",
    "total = workbook.add_format({'bold': True, 'num_format': '$#,##0'})\n",
    "\n",
    "worksheet.write('A1', 'Name', bold)\n",
    "worksheet.write('B1', 'Debt', bold)\n",
    "                             \n",
    "workbook.close()\n",
    "```\n",
    "\n",
    "You can see the documentation of the format [here](https://xlsxwriter.readthedocs.io/format.html#format)"
   ]
  },
  {
   "cell_type": "code",
   "execution_count": 1,
   "id": "e8c3b089",
   "metadata": {},
   "outputs": [],
   "source": [
    "import xlsxwriter"
   ]
  },
  {
   "cell_type": "code",
   "execution_count": 2,
   "id": "ade431c9",
   "metadata": {},
   "outputs": [],
   "source": [
    "workbook = xlsxwriter.Workbook('example-02.xlsx')\n",
    "worksheet = workbook.add_worksheet('My data')\n",
    "\n",
    "data = [\n",
    "    ['James', 200],\n",
    "    ['Jones', 250],\n",
    "    ['Jasper', 125],\n",
    "    ['Jason', 175]\n",
    "]\n",
    "\n",
    "\n",
    "bold = workbook.add_format({'bold': True})\n",
    "money = workbook.add_format({'num_format': '$#,##0'})\n",
    "total = workbook.add_format({'bold': True, 'num_format': '$#,##0'})\n",
    "\n",
    "worksheet.write('A1', 'Name', bold)\n",
    "worksheet.write('B1', 'Debt', bold)\n",
    "\n",
    "row = 1\n",
    "col = 0\n",
    "\n",
    "for name, cost in data:\n",
    "    worksheet.write(row, col, name)\n",
    "    worksheet.write(row, col + 1, cost, money)\n",
    "    row += 1\n",
    "    \n",
    "worksheet.write(row, 0, 'Total', bold)\n",
    "worksheet.write(row, 1, '=SUM(B2:B5)', total)\n",
    "\n",
    "workbook.close()"
   ]
  },
  {
   "cell_type": "code",
   "execution_count": null,
   "id": "58c29ae3",
   "metadata": {},
   "outputs": [],
   "source": []
  }
 ],
 "metadata": {
  "kernelspec": {
   "display_name": "Python 3 (ipykernel)",
   "language": "python",
   "name": "python3"
  },
  "language_info": {
   "codemirror_mode": {
    "name": "ipython",
    "version": 3
   },
   "file_extension": ".py",
   "mimetype": "text/x-python",
   "name": "python",
   "nbconvert_exporter": "python",
   "pygments_lexer": "ipython3",
   "version": "3.9.13"
  }
 },
 "nbformat": 4,
 "nbformat_minor": 5
}
