{
 "cells": [
  {
   "cell_type": "markdown",
   "id": "2d1663f5",
   "metadata": {},
   "source": [
    "# Project - Image Watermark\n",
    "\n",
    "The goal is to create a Watermark on an image.\n",
    "\n",
    "We will use the following\n",
    "\n",
    "<img src=\"python.png\" width=200>\n",
    "\n",
    "To create a watermark."
   ]
  },
  {
   "cell_type": "markdown",
   "id": "2655430f",
   "metadata": {},
   "source": [
    "### Step 1: Import the libaries and view image\n",
    "\n",
    "We will use the following\n",
    "\n",
    "```Python\n",
    "from PIL import Image, ImageFilter, ImageOps\n",
    "```\n",
    "\n",
    "We will use the following image to create a watermark `python.png`.\n",
    "\n",
    "Open the image and see view it (using Python code)"
   ]
  },
  {
   "cell_type": "code",
   "execution_count": null,
   "id": "331eb117",
   "metadata": {},
   "outputs": [],
   "source": []
  },
  {
   "cell_type": "code",
   "execution_count": null,
   "id": "2de43bd0",
   "metadata": {},
   "outputs": [],
   "source": []
  },
  {
   "cell_type": "code",
   "execution_count": null,
   "id": "64a73477",
   "metadata": {},
   "outputs": [],
   "source": []
  },
  {
   "cell_type": "markdown",
   "id": "f59b9e13",
   "metadata": {},
   "source": [
    "### Step 2: Convert the logo\n",
    "\n",
    "We want to create an outline (or a contour) of the Python image.\n",
    "\n",
    "To do that we should apply.\n",
    "- `.convert('L')` to make it to grey scale - this makes it easier to make an contour.\n",
    "- `.filter(ImageFilter.CONTOUR)` to create a contour.\n",
    "- `ImageOpe.invert(img)` to invert the image `img`\n",
    "\n",
    "The above 3 operations should create an image for a watermark."
   ]
  },
  {
   "cell_type": "code",
   "execution_count": null,
   "id": "0983bbac",
   "metadata": {},
   "outputs": [],
   "source": []
  },
  {
   "cell_type": "code",
   "execution_count": null,
   "id": "5105a969",
   "metadata": {},
   "outputs": [],
   "source": []
  },
  {
   "cell_type": "code",
   "execution_count": null,
   "id": "28fa3a58",
   "metadata": {},
   "outputs": [],
   "source": []
  },
  {
   "cell_type": "markdown",
   "id": "45228fe6",
   "metadata": {},
   "source": [
    "### Step 3: Insert Watermark\n",
    "\n",
    "We want to insert the watermark on the image `sunset.jpg`\n",
    "\n",
    "Open the image and paste the watermark image into it.\n",
    "\n",
    "Assuming you called the watermark `watermark` you can do that as follows.\n",
    "\n",
    "```Python\n",
    "sunset.paste(watermark, (100, 50), watermark)\n",
    "```\n",
    "\n",
    "Try to figure out what the parameters do."
   ]
  },
  {
   "cell_type": "code",
   "execution_count": null,
   "id": "dad5071f",
   "metadata": {},
   "outputs": [],
   "source": []
  },
  {
   "cell_type": "code",
   "execution_count": null,
   "id": "2476e476",
   "metadata": {},
   "outputs": [],
   "source": []
  },
  {
   "cell_type": "code",
   "execution_count": null,
   "id": "2a25e153",
   "metadata": {},
   "outputs": [],
   "source": []
  },
  {
   "cell_type": "markdown",
   "id": "778c2d03",
   "metadata": {},
   "source": [
    "### Step 4: Experiement\n",
    "\n",
    "Feel free to experiement further.\n",
    "\n",
    "There are many options to create something on your own."
   ]
  },
  {
   "cell_type": "code",
   "execution_count": null,
   "id": "aac163f0",
   "metadata": {},
   "outputs": [],
   "source": []
  },
  {
   "cell_type": "code",
   "execution_count": null,
   "id": "919c8f6d",
   "metadata": {},
   "outputs": [],
   "source": []
  },
  {
   "cell_type": "code",
   "execution_count": null,
   "id": "dd9298f4",
   "metadata": {},
   "outputs": [],
   "source": []
  }
 ],
 "metadata": {
  "kernelspec": {
   "display_name": "Python 3 (ipykernel)",
   "language": "python",
   "name": "python3"
  },
  "language_info": {
   "codemirror_mode": {
    "name": "ipython",
    "version": 3
   },
   "file_extension": ".py",
   "mimetype": "text/x-python",
   "name": "python",
   "nbconvert_exporter": "python",
   "pygments_lexer": "ipython3",
   "version": "3.9.13"
  }
 },
 "nbformat": 4,
 "nbformat_minor": 5
}
