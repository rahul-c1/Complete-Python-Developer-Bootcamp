{
 "cells": [
  {
   "cell_type": "markdown",
   "id": "67f2acd5",
   "metadata": {},
   "source": [
    "# Test Exercises"
   ]
  },
  {
   "cell_type": "markdown",
   "id": "07c0ba2f",
   "metadata": {},
   "source": [
    "### Exercise 1 (Difficult)\n",
    "\n",
    "**FizzBuzz** is a challenge that involves writing code that labels numbers divisible by three as **Fizz**, five as **Buzz** and numbers divisible by both as **FizzBuzz**.\n",
    "\n",
    "Write a program that outputs the FizzBuzz numbers.\n",
    "\n",
    "```\n",
    "1\n",
    "2\n",
    "Fizz\n",
    "4\n",
    "Buzz\n",
    "Fizz\n",
    "7\n",
    "8\n",
    "Fizz\n",
    "Buzz\n",
    "11\n",
    "Fizz\n",
    "13\n",
    "14\n",
    "FizzBuzz\n",
    "16\n",
    "17\n",
    "Fizz\n",
    "19\n",
    "Buzz\n",
    "```\n",
    "1. Use `range` to print the FizzBuzz sequence.\n",
    "    - HINT: A number `num` is divisible by 3 if `num % 3 == 0`\n",
    "    - HINT: Use an if-elif-elif-else-statement."
   ]
  },
  {
   "cell_type": "code",
   "execution_count": null,
   "id": "028484fe",
   "metadata": {},
   "outputs": [],
   "source": []
  },
  {
   "cell_type": "code",
   "execution_count": null,
   "id": "78fc8363",
   "metadata": {},
   "outputs": [],
   "source": []
  },
  {
   "cell_type": "code",
   "execution_count": null,
   "id": "2e9472b0",
   "metadata": {},
   "outputs": [],
   "source": []
  },
  {
   "cell_type": "markdown",
   "id": "a279cb02",
   "metadata": {},
   "source": [
    "### Exercise 2 (Difficult)\n",
    "\n",
    "**FizzBuzz version 2.**\n",
    "\n",
    "Try to solve the same using these two lists.\n",
    "\n",
    "```Python\n",
    "fizz = ['', '', 'Fizz']*5\n",
    "buzz = ['', '', '', '', 'Buzz']*3\n",
    "```\n",
    "\n",
    "1. Create a new empty list `fizz_buzz`\n",
    "2. Use `zip` to create the list `fizz_buzz`\n",
    "3. Use `enumate`to print the **FizzBuzz** sequence from 1 to 15."
   ]
  },
  {
   "cell_type": "code",
   "execution_count": null,
   "id": "4a46a9c1",
   "metadata": {},
   "outputs": [],
   "source": []
  },
  {
   "cell_type": "code",
   "execution_count": null,
   "id": "0b889acb",
   "metadata": {},
   "outputs": [],
   "source": []
  },
  {
   "cell_type": "code",
   "execution_count": null,
   "id": "5518c524",
   "metadata": {},
   "outputs": [],
   "source": []
  }
 ],
 "metadata": {
  "kernelspec": {
   "display_name": "Python 3 (ipykernel)",
   "language": "python",
   "name": "python3"
  },
  "language_info": {
   "codemirror_mode": {
    "name": "ipython",
    "version": 3
   },
   "file_extension": ".py",
   "mimetype": "text/x-python",
   "name": "python",
   "nbconvert_exporter": "python",
   "pygments_lexer": "ipython3",
   "version": "3.9.13"
  }
 },
 "nbformat": 4,
 "nbformat_minor": 5
}
