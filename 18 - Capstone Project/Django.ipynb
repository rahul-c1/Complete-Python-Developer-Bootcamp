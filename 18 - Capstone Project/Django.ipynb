{
 "cells": [
  {
   "cell_type": "markdown",
   "id": "278970f8",
   "metadata": {},
   "source": [
    "# Create your own Web App\n",
    "\n",
    "Django makes it easier to build better web apps more quickly and with less code.\n",
    "\n",
    "This will require you to run it in an IDE like PyCharm.\n",
    "\n",
    "Then do the following.\n",
    "1. [Install django](https://docs.djangoproject.com/en/4.1/topics/install/#installing-official-release)\n",
    "2. [Your first app](https://docs.djangoproject.com/en/4.1/intro/tutorial01/) - Follow this guide to get started."
   ]
  },
  {
   "cell_type": "code",
   "execution_count": null,
   "id": "aa6e7150",
   "metadata": {},
   "outputs": [],
   "source": []
  }
 ],
 "metadata": {
  "kernelspec": {
   "display_name": "Python 3 (ipykernel)",
   "language": "python",
   "name": "python3"
  },
  "language_info": {
   "codemirror_mode": {
    "name": "ipython",
    "version": 3
   },
   "file_extension": ".py",
   "mimetype": "text/x-python",
   "name": "python",
   "nbconvert_exporter": "python",
   "pygments_lexer": "ipython3",
   "version": "3.9.13"
  }
 },
 "nbformat": 4,
 "nbformat_minor": 5
}
