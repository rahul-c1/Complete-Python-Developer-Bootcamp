{
 "cells": [
  {
   "cell_type": "markdown",
   "id": "7ce66d09",
   "metadata": {},
   "source": [
    "# SQL connector\n",
    "\n",
    "Create a tool that can execute queries on remote servers from your local computer across the Internet.\n",
    "\n",
    "It should take in a remote host, user name and password, run the query and return the results."
   ]
  },
  {
   "cell_type": "markdown",
   "id": "ad358d3a",
   "metadata": {},
   "source": [
    "### If you don't have access to an SQL server\n",
    "\n",
    "1. Simple SQL server in memory.\n",
    "\n",
    "    - You can execute the following code and it will setup an SQL server in memory with an Iris database.\n",
    "\n",
    "```Python\n",
    "from sqlalchemy import create_engine, text\n",
    "import pandas as pd\n",
    "\n",
    "# Read data to put in database\n",
    "df = pd.read_csv('files/iris.csv', index_col=0)\n",
    "\n",
    "# Create an sqlite database in memory\n",
    "db = create_engine('sqlite:///:memory')\n",
    "\n",
    "# Add data to it in database called `iris`\n",
    "df.to_sql(name='iris', con=db)\n",
    "\n",
    "# Then you can execute queries as follows\n",
    "with db.connect() as conn:\n",
    "    sql_query = 'SELECT * FROM iris'\n",
    "    response = conn.execute(text(sql_query))\n",
    "    result = response.all()\n",
    "```\n",
    "\n",
    "2. MySQL database with Docker\n",
    "\n",
    "    - You can setup an MySQL database with Docker.\n",
    "    - It will require you to install Docker and learn the basics\n",
    "    \n",
    "I advise you go with option 1 unless you want to learn Docker."
   ]
  },
  {
   "cell_type": "markdown",
   "id": "695a5ed7",
   "metadata": {},
   "source": [
    "### What's next?\n",
    "\n",
    "1. There are differences on database servers.\n",
    "\n",
    "    - `sqlite` If you use an `sqlite` database (like option 1). You can learn some basic SQL from [here](https://www.sqlitetutorial.net).\n",
    "    - `MySQL` If you use a `MySQL` database you can learn the basic SQL [here](https://www.mysqltutorial.org)\n",
    "    - If you use a remote database, you need to figure what type of SQL servere is running here. Also, if you run a remote server, you might not have rights to update, delete or make any altering of the data.\n",
    "\n",
    "2. When you figured out what database server you are connecting to you might need a specific python library.\n",
    "    - `sqlite` it is ready to go with the `db` as shown above.\n",
    "    - `mysql` you can use the [mysql-connector-python](https://pypi.org/project/mysql-connector-python/) with the official documentation [here](https://dev.mysql.com/doc/connector-python/en/) (notice it has a lot of chapters before the actual code starts).\n",
    "    - If you use another database server is used and find a Python client.\n",
    "\n",
    "3. Try to play with the data with SQL queries (that you learn from the manuals).\n"
   ]
  },
  {
   "cell_type": "code",
   "execution_count": null,
   "id": "0f135dcc",
   "metadata": {},
   "outputs": [],
   "source": []
  }
 ],
 "metadata": {
  "kernelspec": {
   "display_name": "Python 3 (ipykernel)",
   "language": "python",
   "name": "python3"
  },
  "language_info": {
   "codemirror_mode": {
    "name": "ipython",
    "version": 3
   },
   "file_extension": ".py",
   "mimetype": "text/x-python",
   "name": "python",
   "nbconvert_exporter": "python",
   "pygments_lexer": "ipython3",
   "version": "3.9.13"
  }
 },
 "nbformat": 4,
 "nbformat_minor": 5
}
