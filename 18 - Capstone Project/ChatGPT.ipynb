{
 "cells": [
  {
   "cell_type": "markdown",
   "id": "11e6828f",
   "metadata": {},
   "source": [
    "# ChatGPT\n",
    "\n",
    "The goal is to create you own program where you query the ChatGPT API.\n",
    "\n",
    "This requires.\n",
    "- You install openai\n",
    "- You register at [platform.openai.com](https://platform.openai.com/overview) - you\n",
    "- You get an API_KEY (you will get $18 credits to use the API).\n",
    "\n",
    "Let's break it down.\n",
    "1. Install openai\n",
    "```Python\n",
    "!pip install openai\n",
    "```\n",
    "2. Register\n",
    "    - Go to [platform.openai.com](https://platform.openai.com/overview)\n",
    "    - If you have an gmail account, you can use that to log in and you will be registered.\n",
    "    - Otherwise you need to sign-up.\n",
    "    - Notice that the login can be slow and might require multiple tries or even not work.\n",
    "3. Get your API_KEY\n",
    "    - Choose `view API keys`\n",
    "    <img src=\"img/api-key.png\" width=250 />\n",
    "    - Then `Create new secret key` and copy paste it.\n",
    "    - Insert it a code cell as follows:\n",
    "```Python\n",
    "import os\n",
    "\n",
    "api_key = 'REPLACE THIS WITH YOUR SECRET KEY'\n",
    "\n",
    "os.environ[\"OPENAI_API_KEY\"] = api_key\n",
    "```\n",
    "\n",
    "The above code will set your key as an environment variable."
   ]
  },
  {
   "cell_type": "markdown",
   "id": "088f2ed0",
   "metadata": {},
   "source": [
    "### What's next?\n",
    "\n",
    "Go to [examples](https://platform.openai.com/examples)\n",
    "- You can find an example and copy paste the code.\n",
    "- Next try to modify examples to your needs.\n",
    "\n",
    "All examples return a `response` where you get the actual response from..\n",
    "```Python\n",
    "response['choices'][0]['text']\n",
    "```\n",
    "\n",
    "The text will be the continuation of what the `prompt` was.\n",
    "\n",
    "Example:\n",
    "```Python\n",
    "import os\n",
    "import openai\n",
    "\n",
    "openai.api_key = os.getenv(\"OPENAI_API_KEY\")\n",
    "\n",
    "response = openai.Completion.create(\n",
    "  model=\"text-davinci-003\",\n",
    "  prompt=\"The following is a conversation with an AI assistant. The assistant is helpful, creative, clever, and very friendly.\\n\\nHuman: Hello, who are you?\\nAI: I am an AI created by OpenAI. How can I help you today?\\nHuman: I'd like to cancel my subscription.\\nAI:\",\n",
    "  temperature=0.9,\n",
    "  max_tokens=150,\n",
    "  top_p=1,\n",
    "  frequency_penalty=0.0,\n",
    "  presence_penalty=0.6,\n",
    "  stop=[\" Human:\", \" AI:\"]\n",
    ")\n",
    "```\n",
    "\n",
    "It could response.\n",
    "```\n",
    "' Sure thing! Let me just pull up your account. Can you please provide your email address associated with the account so I can locate it?'\n",
    "```"
   ]
  },
  {
   "cell_type": "code",
   "execution_count": null,
   "id": "887db9ea",
   "metadata": {},
   "outputs": [],
   "source": []
  }
 ],
 "metadata": {
  "kernelspec": {
   "display_name": "Python 3 (ipykernel)",
   "language": "python",
   "name": "python3"
  },
  "language_info": {
   "codemirror_mode": {
    "name": "ipython",
    "version": 3
   },
   "file_extension": ".py",
   "mimetype": "text/x-python",
   "name": "python",
   "nbconvert_exporter": "python",
   "pygments_lexer": "ipython3",
   "version": "3.9.13"
  }
 },
 "nbformat": 4,
 "nbformat_minor": 5
}
