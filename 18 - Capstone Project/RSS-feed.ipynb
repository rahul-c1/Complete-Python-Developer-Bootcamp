{
 "cells": [
  {
   "cell_type": "markdown",
   "id": "b12f24db",
   "metadata": {},
   "source": [
    "# RSS feed\n",
    "\n",
    "To get you started you can use [feedparser](https://pypi.org/project/feedparser/)\n",
    "\n",
    "To install it\n",
    "```Python\n",
    "!pip install feedparser\n",
    "```\n",
    "\n",
    "To get news feeds from New York Times\n",
    "```Python\n",
    "import feedparser\n",
    "\n",
    "news_feed = feedparser.parse(\"https://rss.nytimes.com/services/xml/rss/nyt/HomePage.xml\")\n",
    "\n",
    "for entry in news_feed.entries:\n",
    "    print(entry['title'])\n",
    "    print(entry['link'])\n",
    "```\n",
    "\n",
    "You can explore `entry` and see what keys it has.\n",
    "\n",
    "On New York Times you can find a list of other feeds [here](https://www.nytimes.com/rss)\n",
    "\n",
    "Try to find other news feeds and make a script that makes an overview of the a daily update."
   ]
  },
  {
   "cell_type": "code",
   "execution_count": null,
   "id": "a5717d48",
   "metadata": {},
   "outputs": [],
   "source": []
  },
  {
   "cell_type": "code",
   "execution_count": null,
   "id": "692ed36a",
   "metadata": {},
   "outputs": [],
   "source": []
  },
  {
   "cell_type": "code",
   "execution_count": null,
   "id": "a5cacdf3",
   "metadata": {},
   "outputs": [],
   "source": []
  }
 ],
 "metadata": {
  "kernelspec": {
   "display_name": "Python 3 (ipykernel)",
   "language": "python",
   "name": "python3"
  },
  "language_info": {
   "codemirror_mode": {
    "name": "ipython",
    "version": 3
   },
   "file_extension": ".py",
   "mimetype": "text/x-python",
   "name": "python",
   "nbconvert_exporter": "python",
   "pygments_lexer": "ipython3",
   "version": "3.9.13"
  }
 },
 "nbformat": 4,
 "nbformat_minor": 5
}
