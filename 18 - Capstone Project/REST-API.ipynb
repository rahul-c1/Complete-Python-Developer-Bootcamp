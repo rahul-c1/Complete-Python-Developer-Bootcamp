{
 "cells": [
  {
   "cell_type": "markdown",
   "id": "ae8c8351",
   "metadata": {},
   "source": [
    "# Create your own REST-API\n",
    "\n",
    "You can start with creating your own REST-API. To start with, create a simple Parrot, an API the will response with your query.\n",
    "\n",
    "This sound difficult but using a framework like [FastAPI](https://fastapi.tiangolo.com) will make it simpler.\n",
    "\n",
    "This project should be made in an IDE like PyCharm.\n",
    "\n",
    "What you need is to.\n",
    "1. [Install it](https://fastapi.tiangolo.com/#installation)\n",
    "2. [Create a simple example](https://fastapi.tiangolo.com/#create-it)\n",
    "3. [Run it](https://fastapi.tiangolo.com/#run-it)\n",
    "4. [Check it](https://fastapi.tiangolo.com/#check-it)\n",
    "5. [Use the interactive API docs](https://fastapi.tiangolo.com/#interactive-api-docs)\n",
    "\n",
    "The biggest challenge is to understand how this actually helps you build what you need.\n",
    "\n",
    "To create the Parrot, you need to modify the example code.\n",
    "\n",
    "This enables you to run an (REST)-API locally on your computer."
   ]
  },
  {
   "cell_type": "code",
   "execution_count": null,
   "id": "d2a7c063",
   "metadata": {},
   "outputs": [],
   "source": []
  }
 ],
 "metadata": {
  "kernelspec": {
   "display_name": "Python 3 (ipykernel)",
   "language": "python",
   "name": "python3"
  },
  "language_info": {
   "codemirror_mode": {
    "name": "ipython",
    "version": 3
   },
   "file_extension": ".py",
   "mimetype": "text/x-python",
   "name": "python",
   "nbconvert_exporter": "python",
   "pygments_lexer": "ipython3",
   "version": "3.9.13"
  }
 },
 "nbformat": 4,
 "nbformat_minor": 5
}
