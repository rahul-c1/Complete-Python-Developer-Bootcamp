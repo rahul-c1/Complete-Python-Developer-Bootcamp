{
 "cells": [
  {
   "cell_type": "markdown",
   "id": "80c4935e",
   "metadata": {},
   "source": [
    "# Text to PDF converter\n",
    "\n",
    "A collection of Sherlock Holmes stories are given as text files in [files/holmes/](files/homles/).\n",
    "\n",
    "Create a Text-to-PDF converter that convert a text file to a PDF file.\n",
    "\n",
    "You can use the `fpdf2` library.\n",
    "- `fpdf2` is a PDF creation library for Python.\n",
    "\n",
    "What to do.\n",
    "- Use [FPDF2](https://pypi.org/project/fpdf2/) and install it.\n",
    "```Python\n",
    "!pip install fpdf2\n",
    "```\n",
    "- Look at the [tutorial](https://pyfpdf.github.io/fpdf2/Tutorial.html).\n",
    "- The following code should also get you started.\n",
    "```Python\n",
    "from fpdf import FPDF\n",
    "\n",
    "lines = ['line 1', 'line 2', 'line 3']\n",
    "\n",
    "pdf = FPDF()\n",
    "\n",
    "pdf.add_page()\n",
    "pdf.set_font('helvetica', size=15)\n",
    "\n",
    "for line in lines:\n",
    "    pdf.cell(40, 10, txt=line, new_x=\"LMARGIN\", new_y=\"NEXT\")\n",
    "    \n",
    "pdf.output('my.pdf')\n",
    "```\n",
    "- In the tutorial you can see how to create header and footers."
   ]
  },
  {
   "cell_type": "code",
   "execution_count": null,
   "id": "44c6b103",
   "metadata": {},
   "outputs": [],
   "source": []
  },
  {
   "cell_type": "code",
   "execution_count": null,
   "id": "c0b2ca9c",
   "metadata": {},
   "outputs": [],
   "source": []
  },
  {
   "cell_type": "code",
   "execution_count": null,
   "id": "5c4b8ab9",
   "metadata": {},
   "outputs": [],
   "source": []
  }
 ],
 "metadata": {
  "kernelspec": {
   "display_name": "Python 3 (ipykernel)",
   "language": "python",
   "name": "python3"
  },
  "language_info": {
   "codemirror_mode": {
    "name": "ipython",
    "version": 3
   },
   "file_extension": ".py",
   "mimetype": "text/x-python",
   "name": "python",
   "nbconvert_exporter": "python",
   "pygments_lexer": "ipython3",
   "version": "3.9.13"
  }
 },
 "nbformat": 4,
 "nbformat_minor": 5
}
