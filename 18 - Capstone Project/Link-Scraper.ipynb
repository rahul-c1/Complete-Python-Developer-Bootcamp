{
 "cells": [
  {
   "cell_type": "markdown",
   "id": "3c53f578",
   "metadata": {},
   "source": [
    "# Link Scraper\n",
    "\n",
    "Use your knowledge from the web scraping section to figure out how to scrape all links from a web page.\n",
    "\n",
    "Start with a page from [wikipedia.org](https://en.wikipedia.org/wiki/Main_Page)\n",
    "\n",
    "There might be 3 categories of links.\n",
    "- External links (example `https://en.wikipedia.org/wiki/Main_Page`)\n",
    "- Internal links (example `/wiki/New_York_City` - relative to the domain you are on)\n",
    "- Hash-link (example `#cite_note-33` - link to an anchor on the page)\n",
    "\n",
    "You might want to deal with these types differently to generate the full urls."
   ]
  },
  {
   "cell_type": "code",
   "execution_count": null,
   "id": "8a013fc0",
   "metadata": {},
   "outputs": [],
   "source": []
  },
  {
   "cell_type": "code",
   "execution_count": null,
   "id": "5bbb64da",
   "metadata": {},
   "outputs": [],
   "source": []
  },
  {
   "cell_type": "code",
   "execution_count": null,
   "id": "2f235c42",
   "metadata": {},
   "outputs": [],
   "source": []
  }
 ],
 "metadata": {
  "kernelspec": {
   "display_name": "Python 3 (ipykernel)",
   "language": "python",
   "name": "python3"
  },
  "language_info": {
   "codemirror_mode": {
    "name": "ipython",
    "version": 3
   },
   "file_extension": ".py",
   "mimetype": "text/x-python",
   "name": "python",
   "nbconvert_exporter": "python",
   "pygments_lexer": "ipython3",
   "version": "3.9.13"
  }
 },
 "nbformat": 4,
 "nbformat_minor": 5
}
