{
 "cells": [
  {
   "cell_type": "markdown",
   "id": "40cf4d8f",
   "metadata": {},
   "source": [
    "# OpenCV\n",
    "\n",
    "Computer vision is a field of artificial intelligence (AI) enabling computers to derive information from images, videos and other inputs.\n",
    "\n",
    "OpenCV (Open Source Computer Vision Library) is an open source computer vision and machine learning software library.\n",
    "\n",
    "Advice and notes.\n",
    "- To start OpenCV requires you to use an IDE like PyCharm.\n",
    "- A great 3 hours video introduction to get you started can be found in their official documentation [here](https://opencv.org/opencv-free-course/)"
   ]
  },
  {
   "cell_type": "code",
   "execution_count": null,
   "id": "52a3608c",
   "metadata": {},
   "outputs": [],
   "source": []
  },
  {
   "cell_type": "code",
   "execution_count": null,
   "id": "86fe8fcf",
   "metadata": {},
   "outputs": [],
   "source": []
  },
  {
   "cell_type": "code",
   "execution_count": null,
   "id": "76925ae0",
   "metadata": {},
   "outputs": [],
   "source": []
  }
 ],
 "metadata": {
  "kernelspec": {
   "display_name": "Python 3 (ipykernel)",
   "language": "python",
   "name": "python3"
  },
  "language_info": {
   "codemirror_mode": {
    "name": "ipython",
    "version": 3
   },
   "file_extension": ".py",
   "mimetype": "text/x-python",
   "name": "python",
   "nbconvert_exporter": "python",
   "pygments_lexer": "ipython3",
   "version": "3.9.13"
  }
 },
 "nbformat": 4,
 "nbformat_minor": 5
}
