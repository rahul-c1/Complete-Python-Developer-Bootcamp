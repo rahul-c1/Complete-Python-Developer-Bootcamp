{
 "cells": [
  {
   "cell_type": "markdown",
   "id": "bb172f68",
   "metadata": {},
   "source": [
    "# Capstone Project\n",
    "\n",
    "This is a list of ideas of how to use frameworks in Python.\n",
    "\n",
    "The idea is to get you started with a framework and then you can build upon that.\n",
    "\n",
    "A few things.\n",
    "1. Try not to look at the introduction immedately, the idea is that you try to figure it out first.\n",
    "2. The introductions are just to get you started and will not contain a full solution."
   ]
  },
  {
   "cell_type": "markdown",
   "id": "70dc8ef5",
   "metadata": {},
   "source": [
    "## Project Ideas\n",
    "\n",
    "### Files\n",
    "\n",
    "- [Excel to CSV converter](Excel-to-CSV.ipynb) - Create a program that converts an Excel file to a CSV file (**Simple**).\n",
    "- [Text to PDF generator](Text-to-PDF.ipynb) - Create an application which can read a text file and generate a Pdf file out of it (**Simple**).\n",
    "\n",
    "### Data\n",
    "\n",
    "- [SQL connector](SQL-connector.ipynb) - Create you own SQL client for a specific SQL server (**Technical**).\n",
    "\n",
    "### API\n",
    "\n",
    "- [ChatGPT](ChatGPT.ipynb) - Make API calls to ChatGPT (**Technical**).\n",
    "- [RSS feed reader](RSS-feed.ipynb) - Read RSS feeds from various news sources and create an overview (**Simple**).\n",
    "\n",
    "### Computer Vision\n",
    "\n",
    "- [OpenCV](OpenCV.ipynb) - Start learning Computer Vision (**Advanced**).\n",
    "\n",
    "### Web\n",
    "\n",
    "- [Link scraper](Link-Scraper.ipynb) - Scrape all links from a web page (**Simple**).\n",
    "- [Create a REST-API](REST-API.ipynb) - Create your own REST-API (**Advanced**).\n",
    "- [Web app with Django](Django.ipynb) - Create your own Web app with Django (**Advanced**)."
   ]
  },
  {
   "cell_type": "code",
   "execution_count": null,
   "id": "46153ac8",
   "metadata": {},
   "outputs": [],
   "source": []
  }
 ],
 "metadata": {
  "kernelspec": {
   "display_name": "Python 3 (ipykernel)",
   "language": "python",
   "name": "python3"
  },
  "language_info": {
   "codemirror_mode": {
    "name": "ipython",
    "version": 3
   },
   "file_extension": ".py",
   "mimetype": "text/x-python",
   "name": "python",
   "nbconvert_exporter": "python",
   "pygments_lexer": "ipython3",
   "version": "3.9.13"
  }
 },
 "nbformat": 4,
 "nbformat_minor": 5
}
